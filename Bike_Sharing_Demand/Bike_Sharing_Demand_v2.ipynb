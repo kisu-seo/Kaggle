{
 "cells": [
  {
   "cell_type": "markdown",
   "metadata": {},
   "source": [
    "# BIKE SHARING DEMAND\n",
    "\n",
    "### 1. 출처 : [Kaggle - Bike Sharing Demand](https://www.kaggle.com/c/bike-sharing-demand)\n",
    "\n",
    "\n",
    "### 2. 목표 :  과거 사용 패턴과 날씨 데이터를 이용하여 자전거 대여 수요(count)를 예측\n",
    "\n",
    "\n",
    "### 3. Column 설명\n",
    "\n",
    "  * **datetime** - 시간. 연-월-일 시:분:초 로 표현\n",
    "  * **season** - 1 = 봄, 2 = 여름, 3 = 가을, 4 = 겨울\n",
    "  * **holiday** - 1 = 공휴일, 0 = 공휴일이 아님\n",
    "  * **workingday** - 1 = 근무일, 0 = 근무일이 아님\n",
    "  * **weather** - 날씨\n",
    "    * 1: 아주 깨끗한 날씨입니다. 또는 아주 약간의 구름이 끼어있습니다.\n",
    "    * 2: 약간의 안개와 구름이 끼어있는 날씨입니다.\n",
    "    * 3: 약간의 눈, 비가 오거나 천둥이 칩니다.\n",
    "    * 4: 아주 많은 비가 오거나 우박이 내립니다.\n",
    "  * **temp** - 섭씨(Celsius) 온도\n",
    "  * **atemp** - 섭씨(Celsius) 체감 온도\n",
    "  * **humidity** - 습도\n",
    "  * **windspeed** - 풍속\n",
    "  * **casual** - 비회원(non-registered)의 자전거 대여량.\n",
    "  * **registered** - 회원(registered)의 자전거 대여량.\n",
    "  * **count** - 총 자전거 대여랑."
   ]
  },
  {
   "cell_type": "markdown",
   "metadata": {},
   "source": [
    "## LIbrary 불러오기"
   ]
  },
  {
   "cell_type": "code",
   "execution_count": 2,
   "metadata": {},
   "outputs": [],
   "source": [
    "import pandas as pd\n",
    "import numpy as np\n",
    "import seaborn as sns\n",
    "import matplotlib\n",
    "import matplotlib.pyplot as plt\n",
    "import missingno as msno\n",
    "import warnings\n",
    "warnings.filterwarnings(\"ignore\")\n",
    "\n",
    "from IPython.display import set_matplotlib_formats\n",
    "\n",
    "%matplotlib inline\n",
    "\n",
    "plt.style.use('seaborn')\n",
    "sns.set(font_scale=1.5)\n",
    "\n",
    "sns.set(style = \"whitegrid\")\n",
    "\n",
    "# Mac OS의 경우 AppleGothic 설정\n",
    "# 윈도우의 경우, 나눔폰트가 있는 경우 'NanumGothic' 없는 경우에는 'Malgun Gothic'을 사용\n",
    "matplotlib.rc('font', family='AppleGothic')\n",
    "#matplotlib.rc('font', family='Malgun Gothic')\n",
    "\n",
    "# 폰트를 바꿀 경우 마이너스가 표시되지 않는 경우도 있는데 이를 막아주는 코드\n",
    "matplotlib.rc('axes', unicode_minus=False)\n",
    "matplotlib.rcParams['axes.unicode_minus'] = False\n",
    "\n",
    "# retina 옵션을 통해 해상도 향상\n",
    "set_matplotlib_formats('retina')\n",
    "\n",
    "# 화면에 출력하는 데이터 프레임의 최대 row 수를 500으로 설정\n",
    "pd.set_option('display.max_rows', 500)\n",
    "\n",
    "# 화면에 출력하는 데이터 프레임의 최대 column 수를 500으로 설정\n",
    "pd.set_option('display.max_columns', 500)"
   ]
  },
  {
   "cell_type": "markdown",
   "metadata": {},
   "source": [
    "## Load Dataset"
   ]
  },
  {
   "cell_type": "code",
   "execution_count": 3,
   "metadata": {},
   "outputs": [
    {
     "name": "stdout",
     "output_type": "stream",
     "text": [
      "(10886, 12)\n"
     ]
    },
    {
     "data": {
      "text/html": [
       "<div>\n",
       "<style scoped>\n",
       "    .dataframe tbody tr th:only-of-type {\n",
       "        vertical-align: middle;\n",
       "    }\n",
       "\n",
       "    .dataframe tbody tr th {\n",
       "        vertical-align: top;\n",
       "    }\n",
       "\n",
       "    .dataframe thead th {\n",
       "        text-align: right;\n",
       "    }\n",
       "</style>\n",
       "<table border=\"1\" class=\"dataframe\">\n",
       "  <thead>\n",
       "    <tr style=\"text-align: right;\">\n",
       "      <th></th>\n",
       "      <th>datetime</th>\n",
       "      <th>season</th>\n",
       "      <th>holiday</th>\n",
       "      <th>workingday</th>\n",
       "      <th>weather</th>\n",
       "      <th>temp</th>\n",
       "      <th>atemp</th>\n",
       "      <th>humidity</th>\n",
       "      <th>windspeed</th>\n",
       "      <th>casual</th>\n",
       "      <th>registered</th>\n",
       "      <th>count</th>\n",
       "    </tr>\n",
       "  </thead>\n",
       "  <tbody>\n",
       "    <tr>\n",
       "      <th>0</th>\n",
       "      <td>2011-01-01 00:00:00</td>\n",
       "      <td>1</td>\n",
       "      <td>0</td>\n",
       "      <td>0</td>\n",
       "      <td>1</td>\n",
       "      <td>9.84</td>\n",
       "      <td>14.395</td>\n",
       "      <td>81</td>\n",
       "      <td>0.0</td>\n",
       "      <td>3</td>\n",
       "      <td>13</td>\n",
       "      <td>16</td>\n",
       "    </tr>\n",
       "    <tr>\n",
       "      <th>1</th>\n",
       "      <td>2011-01-01 01:00:00</td>\n",
       "      <td>1</td>\n",
       "      <td>0</td>\n",
       "      <td>0</td>\n",
       "      <td>1</td>\n",
       "      <td>9.02</td>\n",
       "      <td>13.635</td>\n",
       "      <td>80</td>\n",
       "      <td>0.0</td>\n",
       "      <td>8</td>\n",
       "      <td>32</td>\n",
       "      <td>40</td>\n",
       "    </tr>\n",
       "    <tr>\n",
       "      <th>2</th>\n",
       "      <td>2011-01-01 02:00:00</td>\n",
       "      <td>1</td>\n",
       "      <td>0</td>\n",
       "      <td>0</td>\n",
       "      <td>1</td>\n",
       "      <td>9.02</td>\n",
       "      <td>13.635</td>\n",
       "      <td>80</td>\n",
       "      <td>0.0</td>\n",
       "      <td>5</td>\n",
       "      <td>27</td>\n",
       "      <td>32</td>\n",
       "    </tr>\n",
       "    <tr>\n",
       "      <th>3</th>\n",
       "      <td>2011-01-01 03:00:00</td>\n",
       "      <td>1</td>\n",
       "      <td>0</td>\n",
       "      <td>0</td>\n",
       "      <td>1</td>\n",
       "      <td>9.84</td>\n",
       "      <td>14.395</td>\n",
       "      <td>75</td>\n",
       "      <td>0.0</td>\n",
       "      <td>3</td>\n",
       "      <td>10</td>\n",
       "      <td>13</td>\n",
       "    </tr>\n",
       "    <tr>\n",
       "      <th>4</th>\n",
       "      <td>2011-01-01 04:00:00</td>\n",
       "      <td>1</td>\n",
       "      <td>0</td>\n",
       "      <td>0</td>\n",
       "      <td>1</td>\n",
       "      <td>9.84</td>\n",
       "      <td>14.395</td>\n",
       "      <td>75</td>\n",
       "      <td>0.0</td>\n",
       "      <td>0</td>\n",
       "      <td>1</td>\n",
       "      <td>1</td>\n",
       "    </tr>\n",
       "  </tbody>\n",
       "</table>\n",
       "</div>"
      ],
      "text/plain": [
       "              datetime  season  holiday  workingday  weather  temp   atemp  \\\n",
       "0  2011-01-01 00:00:00       1        0           0        1  9.84  14.395   \n",
       "1  2011-01-01 01:00:00       1        0           0        1  9.02  13.635   \n",
       "2  2011-01-01 02:00:00       1        0           0        1  9.02  13.635   \n",
       "3  2011-01-01 03:00:00       1        0           0        1  9.84  14.395   \n",
       "4  2011-01-01 04:00:00       1        0           0        1  9.84  14.395   \n",
       "\n",
       "   humidity  windspeed  casual  registered  count  \n",
       "0        81        0.0       3          13     16  \n",
       "1        80        0.0       8          32     40  \n",
       "2        80        0.0       5          27     32  \n",
       "3        75        0.0       3          10     13  \n",
       "4        75        0.0       0           1      1  "
      ]
     },
     "execution_count": 3,
     "metadata": {},
     "output_type": "execute_result"
    }
   ],
   "source": [
    "# train 데이터 읽어오기\n",
    "\n",
    "train = pd.read_csv(\"data/train.csv\")\n",
    "\n",
    "print(train.shape)\n",
    "train.head()"
   ]
  },
  {
   "cell_type": "code",
   "execution_count": 4,
   "metadata": {},
   "outputs": [
    {
     "name": "stdout",
     "output_type": "stream",
     "text": [
      "(6493, 9)\n"
     ]
    },
    {
     "data": {
      "text/html": [
       "<div>\n",
       "<style scoped>\n",
       "    .dataframe tbody tr th:only-of-type {\n",
       "        vertical-align: middle;\n",
       "    }\n",
       "\n",
       "    .dataframe tbody tr th {\n",
       "        vertical-align: top;\n",
       "    }\n",
       "\n",
       "    .dataframe thead th {\n",
       "        text-align: right;\n",
       "    }\n",
       "</style>\n",
       "<table border=\"1\" class=\"dataframe\">\n",
       "  <thead>\n",
       "    <tr style=\"text-align: right;\">\n",
       "      <th></th>\n",
       "      <th>datetime</th>\n",
       "      <th>season</th>\n",
       "      <th>holiday</th>\n",
       "      <th>workingday</th>\n",
       "      <th>weather</th>\n",
       "      <th>temp</th>\n",
       "      <th>atemp</th>\n",
       "      <th>humidity</th>\n",
       "      <th>windspeed</th>\n",
       "    </tr>\n",
       "  </thead>\n",
       "  <tbody>\n",
       "    <tr>\n",
       "      <th>0</th>\n",
       "      <td>2011-01-20 00:00:00</td>\n",
       "      <td>1</td>\n",
       "      <td>0</td>\n",
       "      <td>1</td>\n",
       "      <td>1</td>\n",
       "      <td>10.66</td>\n",
       "      <td>11.365</td>\n",
       "      <td>56</td>\n",
       "      <td>26.0027</td>\n",
       "    </tr>\n",
       "    <tr>\n",
       "      <th>1</th>\n",
       "      <td>2011-01-20 01:00:00</td>\n",
       "      <td>1</td>\n",
       "      <td>0</td>\n",
       "      <td>1</td>\n",
       "      <td>1</td>\n",
       "      <td>10.66</td>\n",
       "      <td>13.635</td>\n",
       "      <td>56</td>\n",
       "      <td>0.0000</td>\n",
       "    </tr>\n",
       "    <tr>\n",
       "      <th>2</th>\n",
       "      <td>2011-01-20 02:00:00</td>\n",
       "      <td>1</td>\n",
       "      <td>0</td>\n",
       "      <td>1</td>\n",
       "      <td>1</td>\n",
       "      <td>10.66</td>\n",
       "      <td>13.635</td>\n",
       "      <td>56</td>\n",
       "      <td>0.0000</td>\n",
       "    </tr>\n",
       "    <tr>\n",
       "      <th>3</th>\n",
       "      <td>2011-01-20 03:00:00</td>\n",
       "      <td>1</td>\n",
       "      <td>0</td>\n",
       "      <td>1</td>\n",
       "      <td>1</td>\n",
       "      <td>10.66</td>\n",
       "      <td>12.880</td>\n",
       "      <td>56</td>\n",
       "      <td>11.0014</td>\n",
       "    </tr>\n",
       "    <tr>\n",
       "      <th>4</th>\n",
       "      <td>2011-01-20 04:00:00</td>\n",
       "      <td>1</td>\n",
       "      <td>0</td>\n",
       "      <td>1</td>\n",
       "      <td>1</td>\n",
       "      <td>10.66</td>\n",
       "      <td>12.880</td>\n",
       "      <td>56</td>\n",
       "      <td>11.0014</td>\n",
       "    </tr>\n",
       "  </tbody>\n",
       "</table>\n",
       "</div>"
      ],
      "text/plain": [
       "              datetime  season  holiday  workingday  weather   temp   atemp  \\\n",
       "0  2011-01-20 00:00:00       1        0           1        1  10.66  11.365   \n",
       "1  2011-01-20 01:00:00       1        0           1        1  10.66  13.635   \n",
       "2  2011-01-20 02:00:00       1        0           1        1  10.66  13.635   \n",
       "3  2011-01-20 03:00:00       1        0           1        1  10.66  12.880   \n",
       "4  2011-01-20 04:00:00       1        0           1        1  10.66  12.880   \n",
       "\n",
       "   humidity  windspeed  \n",
       "0        56    26.0027  \n",
       "1        56     0.0000  \n",
       "2        56     0.0000  \n",
       "3        56    11.0014  \n",
       "4        56    11.0014  "
      ]
     },
     "execution_count": 4,
     "metadata": {},
     "output_type": "execute_result"
    }
   ],
   "source": [
    "# test 데이터 읽어오기\n",
    "\n",
    "test = pd.read_csv(\"data/test.csv\")\n",
    "\n",
    "print(test.shape)\n",
    "test.head()"
   ]
  },
  {
   "cell_type": "markdown",
   "metadata": {},
   "source": [
    "## 전처리(Preprocessing)"
   ]
  },
  {
   "cell_type": "markdown",
   "metadata": {},
   "source": [
    "### datetime 컬럼 전처리"
   ]
  },
  {
   "cell_type": "code",
   "execution_count": 5,
   "metadata": {},
   "outputs": [
    {
     "name": "stdout",
     "output_type": "stream",
     "text": [
      "(10886, 18)\n"
     ]
    },
    {
     "data": {
      "text/html": [
       "<div>\n",
       "<style scoped>\n",
       "    .dataframe tbody tr th:only-of-type {\n",
       "        vertical-align: middle;\n",
       "    }\n",
       "\n",
       "    .dataframe tbody tr th {\n",
       "        vertical-align: top;\n",
       "    }\n",
       "\n",
       "    .dataframe thead th {\n",
       "        text-align: right;\n",
       "    }\n",
       "</style>\n",
       "<table border=\"1\" class=\"dataframe\">\n",
       "  <thead>\n",
       "    <tr style=\"text-align: right;\">\n",
       "      <th></th>\n",
       "      <th>datetime</th>\n",
       "      <th>datetime-year</th>\n",
       "      <th>datetime-month</th>\n",
       "      <th>datetime-day</th>\n",
       "      <th>datetime-hour</th>\n",
       "      <th>datetime-minute</th>\n",
       "      <th>datetime-second</th>\n",
       "    </tr>\n",
       "  </thead>\n",
       "  <tbody>\n",
       "    <tr>\n",
       "      <th>0</th>\n",
       "      <td>2011-01-01 00:00:00</td>\n",
       "      <td>2011</td>\n",
       "      <td>1</td>\n",
       "      <td>1</td>\n",
       "      <td>0</td>\n",
       "      <td>0</td>\n",
       "      <td>0</td>\n",
       "    </tr>\n",
       "    <tr>\n",
       "      <th>1</th>\n",
       "      <td>2011-01-01 01:00:00</td>\n",
       "      <td>2011</td>\n",
       "      <td>1</td>\n",
       "      <td>1</td>\n",
       "      <td>1</td>\n",
       "      <td>0</td>\n",
       "      <td>0</td>\n",
       "    </tr>\n",
       "    <tr>\n",
       "      <th>2</th>\n",
       "      <td>2011-01-01 02:00:00</td>\n",
       "      <td>2011</td>\n",
       "      <td>1</td>\n",
       "      <td>1</td>\n",
       "      <td>2</td>\n",
       "      <td>0</td>\n",
       "      <td>0</td>\n",
       "    </tr>\n",
       "    <tr>\n",
       "      <th>3</th>\n",
       "      <td>2011-01-01 03:00:00</td>\n",
       "      <td>2011</td>\n",
       "      <td>1</td>\n",
       "      <td>1</td>\n",
       "      <td>3</td>\n",
       "      <td>0</td>\n",
       "      <td>0</td>\n",
       "    </tr>\n",
       "    <tr>\n",
       "      <th>4</th>\n",
       "      <td>2011-01-01 04:00:00</td>\n",
       "      <td>2011</td>\n",
       "      <td>1</td>\n",
       "      <td>1</td>\n",
       "      <td>4</td>\n",
       "      <td>0</td>\n",
       "      <td>0</td>\n",
       "    </tr>\n",
       "  </tbody>\n",
       "</table>\n",
       "</div>"
      ],
      "text/plain": [
       "             datetime  datetime-year  datetime-month  datetime-day  \\\n",
       "0 2011-01-01 00:00:00           2011               1             1   \n",
       "1 2011-01-01 01:00:00           2011               1             1   \n",
       "2 2011-01-01 02:00:00           2011               1             1   \n",
       "3 2011-01-01 03:00:00           2011               1             1   \n",
       "4 2011-01-01 04:00:00           2011               1             1   \n",
       "\n",
       "   datetime-hour  datetime-minute  datetime-second  \n",
       "0              0                0                0  \n",
       "1              1                0                0  \n",
       "2              2                0                0  \n",
       "3              3                0                0  \n",
       "4              4                0                0  "
      ]
     },
     "execution_count": 5,
     "metadata": {},
     "output_type": "execute_result"
    }
   ],
   "source": [
    "# train 데이터의 datetime 컬럼을 문자열(string)에서 날짜/시간(datetime) 으로 변경\n",
    "\n",
    "train[\"datetime\"] = pd.to_datetime(train[\"datetime\"])\n",
    "\n",
    "# train 데이터의 datetime 컬럼을 연, 월, 일, 시, 분, 초 컬럼으로 분리\n",
    "\n",
    "train[\"datetime-year\"] = train[\"datetime\"].dt.year\n",
    "train[\"datetime-month\"] = train[\"datetime\"].dt.month\n",
    "train[\"datetime-day\"] = train[\"datetime\"].dt.day\n",
    "train[\"datetime-hour\"] = train[\"datetime\"].dt.hour\n",
    "train[\"datetime-minute\"] = train[\"datetime\"].dt.minute\n",
    "train[\"datetime-second\"] = train[\"datetime\"].dt.second\n",
    "\n",
    "print(train.shape)\n",
    "train[[\"datetime\", \"datetime-year\", \"datetime-month\", \"datetime-day\",\n",
    "       \"datetime-hour\", \"datetime-minute\", \"datetime-second\"]].head()"
   ]
  },
  {
   "cell_type": "code",
   "execution_count": 6,
   "metadata": {},
   "outputs": [
    {
     "name": "stdout",
     "output_type": "stream",
     "text": [
      "(6493, 15)\n"
     ]
    },
    {
     "data": {
      "text/html": [
       "<div>\n",
       "<style scoped>\n",
       "    .dataframe tbody tr th:only-of-type {\n",
       "        vertical-align: middle;\n",
       "    }\n",
       "\n",
       "    .dataframe tbody tr th {\n",
       "        vertical-align: top;\n",
       "    }\n",
       "\n",
       "    .dataframe thead th {\n",
       "        text-align: right;\n",
       "    }\n",
       "</style>\n",
       "<table border=\"1\" class=\"dataframe\">\n",
       "  <thead>\n",
       "    <tr style=\"text-align: right;\">\n",
       "      <th></th>\n",
       "      <th>datetime</th>\n",
       "      <th>datetime-year</th>\n",
       "      <th>datetime-month</th>\n",
       "      <th>datetime-day</th>\n",
       "      <th>datetime-hour</th>\n",
       "      <th>datetime-minute</th>\n",
       "      <th>datetime-second</th>\n",
       "    </tr>\n",
       "  </thead>\n",
       "  <tbody>\n",
       "    <tr>\n",
       "      <th>0</th>\n",
       "      <td>2011-01-20 00:00:00</td>\n",
       "      <td>2011</td>\n",
       "      <td>1</td>\n",
       "      <td>20</td>\n",
       "      <td>0</td>\n",
       "      <td>0</td>\n",
       "      <td>0</td>\n",
       "    </tr>\n",
       "    <tr>\n",
       "      <th>1</th>\n",
       "      <td>2011-01-20 01:00:00</td>\n",
       "      <td>2011</td>\n",
       "      <td>1</td>\n",
       "      <td>20</td>\n",
       "      <td>1</td>\n",
       "      <td>0</td>\n",
       "      <td>0</td>\n",
       "    </tr>\n",
       "    <tr>\n",
       "      <th>2</th>\n",
       "      <td>2011-01-20 02:00:00</td>\n",
       "      <td>2011</td>\n",
       "      <td>1</td>\n",
       "      <td>20</td>\n",
       "      <td>2</td>\n",
       "      <td>0</td>\n",
       "      <td>0</td>\n",
       "    </tr>\n",
       "    <tr>\n",
       "      <th>3</th>\n",
       "      <td>2011-01-20 03:00:00</td>\n",
       "      <td>2011</td>\n",
       "      <td>1</td>\n",
       "      <td>20</td>\n",
       "      <td>3</td>\n",
       "      <td>0</td>\n",
       "      <td>0</td>\n",
       "    </tr>\n",
       "    <tr>\n",
       "      <th>4</th>\n",
       "      <td>2011-01-20 04:00:00</td>\n",
       "      <td>2011</td>\n",
       "      <td>1</td>\n",
       "      <td>20</td>\n",
       "      <td>4</td>\n",
       "      <td>0</td>\n",
       "      <td>0</td>\n",
       "    </tr>\n",
       "  </tbody>\n",
       "</table>\n",
       "</div>"
      ],
      "text/plain": [
       "             datetime  datetime-year  datetime-month  datetime-day  \\\n",
       "0 2011-01-20 00:00:00           2011               1            20   \n",
       "1 2011-01-20 01:00:00           2011               1            20   \n",
       "2 2011-01-20 02:00:00           2011               1            20   \n",
       "3 2011-01-20 03:00:00           2011               1            20   \n",
       "4 2011-01-20 04:00:00           2011               1            20   \n",
       "\n",
       "   datetime-hour  datetime-minute  datetime-second  \n",
       "0              0                0                0  \n",
       "1              1                0                0  \n",
       "2              2                0                0  \n",
       "3              3                0                0  \n",
       "4              4                0                0  "
      ]
     },
     "execution_count": 6,
     "metadata": {},
     "output_type": "execute_result"
    }
   ],
   "source": [
    "# test 데이터의 datetime 컬럼을 문자열(string)에서 날짜/시간(datetime) 으로 변경\n",
    "\n",
    "test[\"datetime\"] = pd.to_datetime(test[\"datetime\"])\n",
    "\n",
    "# train 데이터의 datetime 컬럼을 연, 월, 일, 시, 분, 초 컬럼으로 분리\n",
    "\n",
    "test[\"datetime-year\"] = test[\"datetime\"].dt.year\n",
    "test[\"datetime-month\"] = test[\"datetime\"].dt.month\n",
    "test[\"datetime-day\"] = test[\"datetime\"].dt.day\n",
    "test[\"datetime-hour\"] = test[\"datetime\"].dt.hour\n",
    "test[\"datetime-minute\"] = test[\"datetime\"].dt.minute\n",
    "test[\"datetime-second\"] = test[\"datetime\"].dt.second\n",
    "\n",
    "print(test.shape)\n",
    "test[[\"datetime\", \"datetime-year\", \"datetime-month\", \"datetime-day\",\n",
    "       \"datetime-hour\", \"datetime-minute\", \"datetime-second\"]].head()"
   ]
  },
  {
   "cell_type": "markdown",
   "metadata": {},
   "source": [
    "## E.D.A(탐험적 데이터 분석 / Explortory Data Analysis)"
   ]
  },
  {
   "cell_type": "markdown",
   "metadata": {},
   "source": [
    "### season 컬럼 분석"
   ]
  },
  {
   "cell_type": "code",
   "execution_count": 7,
   "metadata": {},
   "outputs": [
    {
     "data": {
      "text/plain": [
       "<matplotlib.axes._subplots.AxesSubplot at 0x1a1ea51198>"
      ]
     },
     "execution_count": 7,
     "metadata": {},
     "output_type": "execute_result"
    },
    {
     "data": {
      "image/png": "[encoded data removed]",
      "text/plain": [
       "<Figure size 432x288 with 1 Axes>"
      ]
     },
     "metadata": {
      "needs_background": "light"
     },
     "output_type": "display_data"
    }
   ],
   "source": [
    "sns.barplot(data = train, x = \"season\", y = \"count\")\n",
    "\n",
    "# 1 = 봄, 2 = 여름, 3 = 가을, 4 = 겨울\n",
    "\n",
    "# 계절에 따른 자전거 대여량의 영향이 있음"
   ]
  },
  {
   "cell_type": "code",
   "execution_count": 8,
   "metadata": {},
   "outputs": [
    {
     "data": {
      "text/html": [
       "<div>\n",
       "<style scoped>\n",
       "    .dataframe tbody tr th:only-of-type {\n",
       "        vertical-align: middle;\n",
       "    }\n",
       "\n",
       "    .dataframe tbody tr th {\n",
       "        vertical-align: top;\n",
       "    }\n",
       "\n",
       "    .dataframe thead th {\n",
       "        text-align: right;\n",
       "    }\n",
       "</style>\n",
       "<table border=\"1\" class=\"dataframe\">\n",
       "  <thead>\n",
       "    <tr style=\"text-align: right;\">\n",
       "      <th></th>\n",
       "      <th>season</th>\n",
       "      <th>season-spring</th>\n",
       "      <th>season-summer</th>\n",
       "      <th>season-autumn</th>\n",
       "      <th>season-winter</th>\n",
       "    </tr>\n",
       "  </thead>\n",
       "  <tbody>\n",
       "    <tr>\n",
       "      <th>0</th>\n",
       "      <td>1</td>\n",
       "      <td>True</td>\n",
       "      <td>False</td>\n",
       "      <td>False</td>\n",
       "      <td>False</td>\n",
       "    </tr>\n",
       "    <tr>\n",
       "      <th>1</th>\n",
       "      <td>1</td>\n",
       "      <td>True</td>\n",
       "      <td>False</td>\n",
       "      <td>False</td>\n",
       "      <td>False</td>\n",
       "    </tr>\n",
       "    <tr>\n",
       "      <th>2</th>\n",
       "      <td>1</td>\n",
       "      <td>True</td>\n",
       "      <td>False</td>\n",
       "      <td>False</td>\n",
       "      <td>False</td>\n",
       "    </tr>\n",
       "    <tr>\n",
       "      <th>3</th>\n",
       "      <td>1</td>\n",
       "      <td>True</td>\n",
       "      <td>False</td>\n",
       "      <td>False</td>\n",
       "      <td>False</td>\n",
       "    </tr>\n",
       "    <tr>\n",
       "      <th>4</th>\n",
       "      <td>1</td>\n",
       "      <td>True</td>\n",
       "      <td>False</td>\n",
       "      <td>False</td>\n",
       "      <td>False</td>\n",
       "    </tr>\n",
       "  </tbody>\n",
       "</table>\n",
       "</div>"
      ],
      "text/plain": [
       "   season  season-spring  season-summer  season-autumn  season-winter\n",
       "0       1           True          False          False          False\n",
       "1       1           True          False          False          False\n",
       "2       1           True          False          False          False\n",
       "3       1           True          False          False          False\n",
       "4       1           True          False          False          False"
      ]
     },
     "execution_count": 8,
     "metadata": {},
     "output_type": "execute_result"
    }
   ],
   "source": [
    "# one hot encoding 변환\n",
    "\n",
    "train[\"season-spring\"] = train[\"season\"] == 1\n",
    "train[\"season-summer\"] = train[\"season\"] == 2\n",
    "train[\"season-autumn\"] = train[\"season\"] == 3\n",
    "train[\"season-winter\"] = train[\"season\"] == 4\n",
    "\n",
    "train[[\"season\", \"season-spring\", \"season-summer\", \"season-autumn\", \"season-winter\"]].head()"
   ]
  },
  {
   "cell_type": "code",
   "execution_count": 9,
   "metadata": {},
   "outputs": [
    {
     "data": {
      "text/html": [
       "<div>\n",
       "<style scoped>\n",
       "    .dataframe tbody tr th:only-of-type {\n",
       "        vertical-align: middle;\n",
       "    }\n",
       "\n",
       "    .dataframe tbody tr th {\n",
       "        vertical-align: top;\n",
       "    }\n",
       "\n",
       "    .dataframe thead th {\n",
       "        text-align: right;\n",
       "    }\n",
       "</style>\n",
       "<table border=\"1\" class=\"dataframe\">\n",
       "  <thead>\n",
       "    <tr style=\"text-align: right;\">\n",
       "      <th></th>\n",
       "      <th>season</th>\n",
       "      <th>season-spring</th>\n",
       "      <th>season-summer</th>\n",
       "      <th>season-autumn</th>\n",
       "      <th>season-winter</th>\n",
       "    </tr>\n",
       "  </thead>\n",
       "  <tbody>\n",
       "    <tr>\n",
       "      <th>0</th>\n",
       "      <td>1</td>\n",
       "      <td>True</td>\n",
       "      <td>False</td>\n",
       "      <td>False</td>\n",
       "      <td>False</td>\n",
       "    </tr>\n",
       "    <tr>\n",
       "      <th>1</th>\n",
       "      <td>1</td>\n",
       "      <td>True</td>\n",
       "      <td>False</td>\n",
       "      <td>False</td>\n",
       "      <td>False</td>\n",
       "    </tr>\n",
       "    <tr>\n",
       "      <th>2</th>\n",
       "      <td>1</td>\n",
       "      <td>True</td>\n",
       "      <td>False</td>\n",
       "      <td>False</td>\n",
       "      <td>False</td>\n",
       "    </tr>\n",
       "    <tr>\n",
       "      <th>3</th>\n",
       "      <td>1</td>\n",
       "      <td>True</td>\n",
       "      <td>False</td>\n",
       "      <td>False</td>\n",
       "      <td>False</td>\n",
       "    </tr>\n",
       "    <tr>\n",
       "      <th>4</th>\n",
       "      <td>1</td>\n",
       "      <td>True</td>\n",
       "      <td>False</td>\n",
       "      <td>False</td>\n",
       "      <td>False</td>\n",
       "    </tr>\n",
       "  </tbody>\n",
       "</table>\n",
       "</div>"
      ],
      "text/plain": [
       "   season  season-spring  season-summer  season-autumn  season-winter\n",
       "0       1           True          False          False          False\n",
       "1       1           True          False          False          False\n",
       "2       1           True          False          False          False\n",
       "3       1           True          False          False          False\n",
       "4       1           True          False          False          False"
      ]
     },
     "execution_count": 9,
     "metadata": {},
     "output_type": "execute_result"
    }
   ],
   "source": [
    "\n",
    "test[\"season-spring\"] = test[\"season\"] == 1\n",
    "test[\"season-summer\"] = test[\"season\"] == 2\n",
    "test[\"season-autumn\"] = test[\"season\"] == 3\n",
    "test[\"season-winter\"] = test[\"season\"] == 4\n",
    "\n",
    "test[[\"season\", \"season-spring\", \"season-summer\", \"season-autumn\", \"season-winter\"]].head()"
   ]
  },
  {
   "cell_type": "markdown",
   "metadata": {},
   "source": [
    "### holiday, workingday 컬럼 분석"
   ]
  },
  {
   "cell_type": "code",
   "execution_count": 10,
   "metadata": {},
   "outputs": [
    {
     "data": {
      "text/plain": [
       "<matplotlib.axes._subplots.AxesSubplot at 0x1a1de58a90>"
      ]
     },
     "execution_count": 10,
     "metadata": {},
     "output_type": "execute_result"
    },
    {
     "data": {
      "image/png": "[encoded data removed]",
      "text/plain": [
       "<Figure size 1296x288 with 2 Axes>"
      ]
     },
     "metadata": {
      "needs_background": "light"
     },
     "output_type": "display_data"
    }
   ],
   "source": [
    "# 여러 개의 시각화를 한 화면에 띄우기\n",
    "\n",
    "figure,((ax1, ax2)) = plt.subplots(ncols = 2)\n",
    "\n",
    "# 시각화 사이즈 설정\n",
    "\n",
    "figure.set_size_inches(18, 4)\n",
    "\n",
    "sns.countplot(data = train, x = \"holiday\", ax = ax1)\n",
    "sns.countplot(data = train, x = \"workingday\", ax = ax2)\n",
    "\n",
    "# 0 = 공휴일, 1 = 근무일\n",
    "\n",
    "# 공휴일과 근무일에 따른 자전거 대여량의 영향이 있음"
   ]
  },
  {
   "cell_type": "markdown",
   "metadata": {},
   "source": [
    "### datetime 컬럼 분석"
   ]
  },
  {
   "cell_type": "code",
   "execution_count": 11,
   "metadata": {},
   "outputs": [
    {
     "data": {
      "text/plain": [
       "<matplotlib.axes._subplots.AxesSubplot at 0x1a1f2630b8>"
      ]
     },
     "execution_count": 11,
     "metadata": {},
     "output_type": "execute_result"
    },
    {
     "data": {
      "image/png": "[encoded data removed]",
      "text/plain": [
       "<Figure size 1296x576 with 6 Axes>"
      ]
     },
     "metadata": {
      "needs_background": "light"
     },
     "output_type": "display_data"
    }
   ],
   "source": [
    "figure, ((ax1, ax2, ax3), (ax4, ax5, ax6)) = plt.subplots(nrows=2, ncols=3)\n",
    "\n",
    "figure.set_size_inches(18, 8)\n",
    "\n",
    "sns.barplot(data = train, x = \"datetime-year\", y = \"count\", ax = ax1)\n",
    "sns.barplot(data = train, x = \"datetime-month\", y = \"count\", ax = ax2)\n",
    "sns.barplot(data = train, x = \"datetime-day\", y = \"count\", ax = ax3)\n",
    "sns.barplot(data = train, x = \"datetime-hour\", y = \"count\", ax = ax4)\n",
    "sns.barplot(data = train, x = \"datetime-minute\", y = \"count\", ax = ax5)\n",
    "sns.barplot(data = train, x = \"datetime-second\", y = \"count\", ax = ax6)\n",
    "\n",
    "# datetime-day 는 train 데이터에 1 ~ 19일까지 밖에 없고, test 데이터에는 20 ~ 31일까지 있음 -> feature 사용 불가\n",
    "# datetime-minute, second 는 데이터가 없음 -> feature 사용 불가"
   ]
  },
  {
   "cell_type": "markdown",
   "metadata": {},
   "source": [
    "### weather 컬럼 분석"
   ]
  },
  {
   "cell_type": "code",
   "execution_count": 12,
   "metadata": {},
   "outputs": [
    {
     "data": {
      "text/plain": [
       "<matplotlib.axes._subplots.AxesSubplot at 0x1a1e62f358>"
      ]
     },
     "execution_count": 12,
     "metadata": {},
     "output_type": "execute_result"
    },
    {
     "data": {
      "image/png": "[encoded data removed]",
      "text/plain": [
       "<Figure size 432x288 with 1 Axes>"
      ]
     },
     "metadata": {
      "needs_background": "light"
     },
     "output_type": "display_data"
    }
   ],
   "source": [
    "sns.barplot(data = train, x = \"weather\", y = \"count\")\n",
    "\n",
    "# 1 = 가장 좋은 날씨, 2 = 적당히 좋은 날씨, 3 = 적당히 나쁜 날씨, 4 = 매우 나쁜 날씨\n",
    "# 4의 경우 신뢰구간이 없으므로 3으로 변경"
   ]
  },
  {
   "cell_type": "code",
   "execution_count": 13,
   "metadata": {},
   "outputs": [
    {
     "data": {
      "text/plain": [
       "<matplotlib.axes._subplots.AxesSubplot at 0x1a1e7ccd68>"
      ]
     },
     "execution_count": 13,
     "metadata": {},
     "output_type": "execute_result"
    },
    {
     "data": {
      "image/png": "[encoded data removed]",
      "text/plain": [
       "<Figure size 432x288 with 1 Axes>"
      ]
     },
     "metadata": {
      "needs_background": "light"
     },
     "output_type": "display_data"
    }
   ],
   "source": [
    "train[\"weather\"] = train[\"weather\"].replace(4, 3)\n",
    "\n",
    "sns.barplot(data = train, x = \"weather\", y = \"count\")"
   ]
  },
  {
   "cell_type": "code",
   "execution_count": 14,
   "metadata": {},
   "outputs": [],
   "source": [
    "test[\"weather\"] = test[\"weather\"].replace(4, 3)"
   ]
  },
  {
   "cell_type": "code",
   "execution_count": 15,
   "metadata": {},
   "outputs": [
    {
     "data": {
      "text/html": [
       "<div>\n",
       "<style scoped>\n",
       "    .dataframe tbody tr th:only-of-type {\n",
       "        vertical-align: middle;\n",
       "    }\n",
       "\n",
       "    .dataframe tbody tr th {\n",
       "        vertical-align: top;\n",
       "    }\n",
       "\n",
       "    .dataframe thead th {\n",
       "        text-align: right;\n",
       "    }\n",
       "</style>\n",
       "<table border=\"1\" class=\"dataframe\">\n",
       "  <thead>\n",
       "    <tr style=\"text-align: right;\">\n",
       "      <th></th>\n",
       "      <th>weather</th>\n",
       "      <th>weather-good</th>\n",
       "      <th>weather-notbad</th>\n",
       "      <th>weather-bad</th>\n",
       "    </tr>\n",
       "  </thead>\n",
       "  <tbody>\n",
       "    <tr>\n",
       "      <th>0</th>\n",
       "      <td>1</td>\n",
       "      <td>True</td>\n",
       "      <td>False</td>\n",
       "      <td>False</td>\n",
       "    </tr>\n",
       "    <tr>\n",
       "      <th>1</th>\n",
       "      <td>1</td>\n",
       "      <td>True</td>\n",
       "      <td>False</td>\n",
       "      <td>False</td>\n",
       "    </tr>\n",
       "    <tr>\n",
       "      <th>2</th>\n",
       "      <td>1</td>\n",
       "      <td>True</td>\n",
       "      <td>False</td>\n",
       "      <td>False</td>\n",
       "    </tr>\n",
       "    <tr>\n",
       "      <th>3</th>\n",
       "      <td>1</td>\n",
       "      <td>True</td>\n",
       "      <td>False</td>\n",
       "      <td>False</td>\n",
       "    </tr>\n",
       "    <tr>\n",
       "      <th>4</th>\n",
       "      <td>1</td>\n",
       "      <td>True</td>\n",
       "      <td>False</td>\n",
       "      <td>False</td>\n",
       "    </tr>\n",
       "  </tbody>\n",
       "</table>\n",
       "</div>"
      ],
      "text/plain": [
       "   weather  weather-good  weather-notbad  weather-bad\n",
       "0        1          True           False        False\n",
       "1        1          True           False        False\n",
       "2        1          True           False        False\n",
       "3        1          True           False        False\n",
       "4        1          True           False        False"
      ]
     },
     "execution_count": 15,
     "metadata": {},
     "output_type": "execute_result"
    }
   ],
   "source": [
    "# one hot encoding 변환\n",
    "\n",
    "train[\"weather-good\"] = train[\"weather\"] == 1\n",
    "train[\"weather-notbad\"] = train[\"weather\"] == 2\n",
    "train[\"weather-bad\"] = train[\"weather\"] == 3\n",
    "\n",
    "train[[\"weather\", \"weather-good\", \"weather-notbad\", \"weather-bad\"]].head()"
   ]
  },
  {
   "cell_type": "code",
   "execution_count": 16,
   "metadata": {},
   "outputs": [
    {
     "data": {
      "text/html": [
       "<div>\n",
       "<style scoped>\n",
       "    .dataframe tbody tr th:only-of-type {\n",
       "        vertical-align: middle;\n",
       "    }\n",
       "\n",
       "    .dataframe tbody tr th {\n",
       "        vertical-align: top;\n",
       "    }\n",
       "\n",
       "    .dataframe thead th {\n",
       "        text-align: right;\n",
       "    }\n",
       "</style>\n",
       "<table border=\"1\" class=\"dataframe\">\n",
       "  <thead>\n",
       "    <tr style=\"text-align: right;\">\n",
       "      <th></th>\n",
       "      <th>weather</th>\n",
       "      <th>weather-good</th>\n",
       "      <th>weather-notbad</th>\n",
       "      <th>weather-bad</th>\n",
       "    </tr>\n",
       "  </thead>\n",
       "  <tbody>\n",
       "    <tr>\n",
       "      <th>0</th>\n",
       "      <td>1</td>\n",
       "      <td>True</td>\n",
       "      <td>False</td>\n",
       "      <td>False</td>\n",
       "    </tr>\n",
       "    <tr>\n",
       "      <th>1</th>\n",
       "      <td>1</td>\n",
       "      <td>True</td>\n",
       "      <td>False</td>\n",
       "      <td>False</td>\n",
       "    </tr>\n",
       "    <tr>\n",
       "      <th>2</th>\n",
       "      <td>1</td>\n",
       "      <td>True</td>\n",
       "      <td>False</td>\n",
       "      <td>False</td>\n",
       "    </tr>\n",
       "    <tr>\n",
       "      <th>3</th>\n",
       "      <td>1</td>\n",
       "      <td>True</td>\n",
       "      <td>False</td>\n",
       "      <td>False</td>\n",
       "    </tr>\n",
       "    <tr>\n",
       "      <th>4</th>\n",
       "      <td>1</td>\n",
       "      <td>True</td>\n",
       "      <td>False</td>\n",
       "      <td>False</td>\n",
       "    </tr>\n",
       "  </tbody>\n",
       "</table>\n",
       "</div>"
      ],
      "text/plain": [
       "   weather  weather-good  weather-notbad  weather-bad\n",
       "0        1          True           False        False\n",
       "1        1          True           False        False\n",
       "2        1          True           False        False\n",
       "3        1          True           False        False\n",
       "4        1          True           False        False"
      ]
     },
     "execution_count": 16,
     "metadata": {},
     "output_type": "execute_result"
    }
   ],
   "source": [
    "test[\"weather-good\"] = test[\"weather\"] == 1\n",
    "test[\"weather-notbad\"] = test[\"weather\"] == 2\n",
    "test[\"weather-bad\"] = test[\"weather\"] == 3\n",
    "\n",
    "test[[\"weather\", \"weather-good\", \"weather-notbad\", \"weather-bad\"]].head()"
   ]
  },
  {
   "cell_type": "markdown",
   "metadata": {},
   "source": [
    "### temp컬럼 분석"
   ]
  },
  {
   "cell_type": "code",
   "execution_count": 17,
   "metadata": {},
   "outputs": [
    {
     "data": {
      "text/plain": [
       "<matplotlib.axes._subplots.AxesSubplot at 0x1a1e789780>"
      ]
     },
     "execution_count": 17,
     "metadata": {},
     "output_type": "execute_result"
    },
    {
     "data": {
      "image/png": "[encoded data removed]",
      "text/plain": [
       "<Figure size 432x288 with 1 Axes>"
      ]
     },
     "metadata": {
      "needs_background": "light"
     },
     "output_type": "display_data"
    }
   ],
   "source": [
    "sns.pointplot(data = train, x = \"temp\", y = \"count\")"
   ]
  },
  {
   "cell_type": "code",
   "execution_count": 18,
   "metadata": {},
   "outputs": [
    {
     "data": {
      "text/plain": [
       "array([ 9.84,  9.02,  8.2 , 13.12, 15.58, 14.76, 17.22, 18.86, 18.04,\n",
       "       16.4 , 13.94, 12.3 , 10.66,  6.56,  5.74,  7.38,  4.92, 11.48,\n",
       "        4.1 ,  3.28,  2.46, 21.32, 22.96, 23.78, 24.6 , 19.68, 22.14,\n",
       "       20.5 , 27.06, 26.24, 25.42, 27.88, 28.7 , 30.34, 31.16, 29.52,\n",
       "       33.62, 35.26, 36.9 , 32.8 , 31.98, 34.44, 36.08, 37.72, 38.54,\n",
       "        1.64,  0.82, 39.36, 41.  ])"
      ]
     },
     "execution_count": 18,
     "metadata": {},
     "output_type": "execute_result"
    }
   ],
   "source": [
    "# temp 종류 출력\n",
    "\n",
    "train[\"temp\"].unique()"
   ]
  },
  {
   "cell_type": "code",
   "execution_count": 19,
   "metadata": {},
   "outputs": [
    {
     "name": "stdout",
     "output_type": "stream",
     "text": [
      "(10886, 26)\n"
     ]
    },
    {
     "data": {
      "text/plain": [
       "0    10.0\n",
       "1     9.0\n",
       "2     9.0\n",
       "3    10.0\n",
       "4    10.0\n",
       "Name: temp(int), dtype: float64"
      ]
     },
     "execution_count": 19,
     "metadata": {},
     "output_type": "execute_result"
    }
   ],
   "source": [
    "# temp 반올림 후 새로운 컬럼에 할당\n",
    "\n",
    "train[\"temp(int)\"] = train[\"temp\"].round()\n",
    "\n",
    "print(train.shape)\n",
    "train[\"temp(int)\"].head()"
   ]
  },
  {
   "cell_type": "code",
   "execution_count": 20,
   "metadata": {},
   "outputs": [
    {
     "data": {
      "text/plain": [
       "0    11.0\n",
       "1    11.0\n",
       "2    11.0\n",
       "3    11.0\n",
       "4    11.0\n",
       "Name: temp(int), dtype: float64"
      ]
     },
     "execution_count": 20,
     "metadata": {},
     "output_type": "execute_result"
    }
   ],
   "source": [
    "# test 데이터에 반영\n",
    "\n",
    "test[\"temp(int)\"] = test[\"temp\"].round()\n",
    "test[\"temp(int)\"].head()"
   ]
  },
  {
   "cell_type": "markdown",
   "metadata": {},
   "source": [
    "### atemp 컬럼 분석"
   ]
  },
  {
   "cell_type": "code",
   "execution_count": 21,
   "metadata": {},
   "outputs": [
    {
     "data": {
      "text/plain": [
       "<matplotlib.axes._subplots.AxesSubplot at 0x1a1f5de780>"
      ]
     },
     "execution_count": 21,
     "metadata": {},
     "output_type": "execute_result"
    },
    {
     "data": {
      "image/png": "[encoded data removed]",
      "text/plain": [
       "<Figure size 432x288 with 1 Axes>"
      ]
     },
     "metadata": {
      "needs_background": "light"
     },
     "output_type": "display_data"
    }
   ],
   "source": [
    "sns.pointplot(data = train, x = \"atemp\", y = \"count\")"
   ]
  },
  {
   "cell_type": "code",
   "execution_count": 22,
   "metadata": {},
   "outputs": [
    {
     "data": {
      "text/plain": [
       "array([14.395, 13.635, 12.88 , 17.425, 19.695, 16.665, 21.21 , 22.725,\n",
       "       21.97 , 20.455, 11.365, 10.605,  9.85 ,  8.335,  6.82 ,  5.305,\n",
       "        6.06 ,  9.09 , 12.12 ,  7.575, 15.91 ,  3.03 ,  3.79 ,  4.545,\n",
       "       15.15 , 18.18 , 25.   , 26.515, 27.275, 29.545, 23.485, 25.76 ,\n",
       "       31.06 , 30.305, 24.24 , 18.94 , 31.82 , 32.575, 33.335, 28.79 ,\n",
       "       34.85 , 35.605, 37.12 , 40.15 , 41.665, 40.91 , 39.395, 34.09 ,\n",
       "       28.03 , 36.365, 37.88 , 42.425, 43.94 , 38.635,  1.515,  0.76 ,\n",
       "        2.275, 43.18 , 44.695, 45.455])"
      ]
     },
     "execution_count": 22,
     "metadata": {},
     "output_type": "execute_result"
    }
   ],
   "source": [
    "# atemp 종류 출력\n",
    "\n",
    "train[\"atemp\"].unique()"
   ]
  },
  {
   "cell_type": "code",
   "execution_count": 23,
   "metadata": {},
   "outputs": [
    {
     "name": "stdout",
     "output_type": "stream",
     "text": [
      "(10886, 27)\n"
     ]
    },
    {
     "data": {
      "text/plain": [
       "0    14.0\n",
       "1    14.0\n",
       "2    14.0\n",
       "3    14.0\n",
       "4    14.0\n",
       "Name: atemp(int), dtype: float64"
      ]
     },
     "execution_count": 23,
     "metadata": {},
     "output_type": "execute_result"
    }
   ],
   "source": [
    "# atemp 반올림 후 새로운 컬럼에 할당\n",
    "\n",
    "train[\"atemp(int)\"] = train[\"atemp\"].round()\n",
    "\n",
    "print(train.shape)\n",
    "train[\"atemp(int)\"].head()"
   ]
  },
  {
   "cell_type": "code",
   "execution_count": 24,
   "metadata": {},
   "outputs": [
    {
     "data": {
      "text/plain": [
       "0    11.0\n",
       "1    14.0\n",
       "2    14.0\n",
       "3    13.0\n",
       "4    13.0\n",
       "Name: atemp(int), dtype: float64"
      ]
     },
     "execution_count": 24,
     "metadata": {},
     "output_type": "execute_result"
    }
   ],
   "source": [
    "# test 데이터에 반영\n",
    "\n",
    "test[\"atemp(int)\"] = test[\"atemp\"].round()\n",
    "test[\"atemp(int)\"].head()"
   ]
  },
  {
   "cell_type": "markdown",
   "metadata": {},
   "source": [
    "### temp(int), atemp(int) 컬럼 비교 "
   ]
  },
  {
   "cell_type": "code",
   "execution_count": 25,
   "metadata": {},
   "outputs": [
    {
     "data": {
      "text/plain": [
       "<matplotlib.axes._subplots.AxesSubplot at 0x1a1f855b38>"
      ]
     },
     "execution_count": 25,
     "metadata": {},
     "output_type": "execute_result"
    },
    {
     "data": {
      "image/png": "[encoded data removed]",
      "text/plain": [
       "<Figure size 864x864 with 1 Axes>"
      ]
     },
     "metadata": {
      "needs_background": "light"
     },
     "output_type": "display_data"
    }
   ],
   "source": [
    "plt.figure(figsize = (12, 12))\n",
    "\n",
    "sns.scatterplot(data = train, x = \"temp(int)\", y = \"atemp(int)\", size = \"count\")"
   ]
  },
  {
   "cell_type": "code",
   "execution_count": 26,
   "metadata": {},
   "outputs": [
    {
     "data": {
      "text/html": [
       "<div>\n",
       "<style scoped>\n",
       "    .dataframe tbody tr th:only-of-type {\n",
       "        vertical-align: middle;\n",
       "    }\n",
       "\n",
       "    .dataframe tbody tr th {\n",
       "        vertical-align: top;\n",
       "    }\n",
       "\n",
       "    .dataframe thead th {\n",
       "        text-align: right;\n",
       "    }\n",
       "</style>\n",
       "<table border=\"1\" class=\"dataframe\">\n",
       "  <thead>\n",
       "    <tr style=\"text-align: right;\">\n",
       "      <th></th>\n",
       "      <th>temp(int)</th>\n",
       "      <th>atemp(int)</th>\n",
       "      <th>temp(difference)</th>\n",
       "    </tr>\n",
       "  </thead>\n",
       "  <tbody>\n",
       "    <tr>\n",
       "      <th>0</th>\n",
       "      <td>10.0</td>\n",
       "      <td>14.0</td>\n",
       "      <td>-4.0</td>\n",
       "    </tr>\n",
       "    <tr>\n",
       "      <th>1</th>\n",
       "      <td>9.0</td>\n",
       "      <td>14.0</td>\n",
       "      <td>-5.0</td>\n",
       "    </tr>\n",
       "    <tr>\n",
       "      <th>2</th>\n",
       "      <td>9.0</td>\n",
       "      <td>14.0</td>\n",
       "      <td>-5.0</td>\n",
       "    </tr>\n",
       "    <tr>\n",
       "      <th>3</th>\n",
       "      <td>10.0</td>\n",
       "      <td>14.0</td>\n",
       "      <td>-4.0</td>\n",
       "    </tr>\n",
       "    <tr>\n",
       "      <th>4</th>\n",
       "      <td>10.0</td>\n",
       "      <td>14.0</td>\n",
       "      <td>-4.0</td>\n",
       "    </tr>\n",
       "  </tbody>\n",
       "</table>\n",
       "</div>"
      ],
      "text/plain": [
       "   temp(int)  atemp(int)  temp(difference)\n",
       "0       10.0        14.0              -4.0\n",
       "1        9.0        14.0              -5.0\n",
       "2        9.0        14.0              -5.0\n",
       "3       10.0        14.0              -4.0\n",
       "4       10.0        14.0              -4.0"
      ]
     },
     "execution_count": 26,
     "metadata": {},
     "output_type": "execute_result"
    }
   ],
   "source": [
    "# 정수형(int)으로 변환한 온도(temp)와 체감온도(atemp)를 빼서\n",
    "# 두 값의 차이를 나타내는 temp(difference)라는 새로운 컬럼 추가\n",
    "\n",
    "train[\"temp(difference)\"] = train[\"temp(int)\"] - train[\"atemp(int)\"]\n",
    "train[[\"temp(int)\", \"atemp(int)\", \"temp(difference)\"]].head()"
   ]
  },
  {
   "cell_type": "code",
   "execution_count": 27,
   "metadata": {},
   "outputs": [
    {
     "data": {
      "text/plain": [
       "-4.0     5106\n",
       "-3.0     2097\n",
       "-2.0     1415\n",
       "-5.0     1049\n",
       "-1.0      509\n",
       "-6.0      405\n",
       " 0.0      219\n",
       " 1.0       32\n",
       "-7.0       21\n",
       " 22.0       5\n",
       "-8.0        5\n",
       " 14.0       5\n",
       " 2.0        4\n",
       " 16.0       3\n",
       " 15.0       3\n",
       " 18.0       3\n",
       " 23.0       2\n",
       " 17.0       1\n",
       " 13.0       1\n",
       " 19.0       1\n",
       "Name: temp(difference), dtype: int64"
      ]
     },
     "execution_count": 27,
     "metadata": {},
     "output_type": "execute_result"
    }
   ],
   "source": [
    "train[\"temp(difference)\"].value_counts()"
   ]
  },
  {
   "cell_type": "code",
   "execution_count": 28,
   "metadata": {},
   "outputs": [
    {
     "data": {
      "text/plain": [
       "-4.0    5106\n",
       "-3.0    2097\n",
       "-2.0    1415\n",
       "-5.0    1049\n",
       "-1.0     509\n",
       "-6.0     431\n",
       " 0.0     279\n",
       "Name: temp(difference), dtype: int64"
      ]
     },
     "execution_count": 28,
     "metadata": {},
     "output_type": "execute_result"
    }
   ],
   "source": [
    "# 모수가 적은 데이터를 합치기\n",
    "\n",
    "train.loc[train[\"temp(difference)\"] < -6, \"temp(difference)\"] = -6\n",
    "train.loc[train[\"temp(difference)\"] > 0, \"temp(difference)\"] = 0\n",
    "\n",
    "train[\"temp(difference)\"].value_counts()"
   ]
  },
  {
   "cell_type": "code",
   "execution_count": 29,
   "metadata": {},
   "outputs": [
    {
     "data": {
      "text/plain": [
       "<matplotlib.axes._subplots.AxesSubplot at 0x1a1f10ac88>"
      ]
     },
     "execution_count": 29,
     "metadata": {},
     "output_type": "execute_result"
    },
    {
     "data": {
      "image/png": "[encoded data removed]",
      "text/plain": [
       "<Figure size 1296x288 with 1 Axes>"
      ]
     },
     "metadata": {
      "needs_background": "light"
     },
     "output_type": "display_data"
    }
   ],
   "source": [
    "plt.figure(figsize = (18, 4))\n",
    "sns.pointplot(data = train, x = \"temp(difference)\", y = \"count\")\n",
    "\n",
    "# temp 와 atemp 의 차이가 클수록 자전거를 많이 빌린다는 것을 알 수 있음"
   ]
  },
  {
   "cell_type": "code",
   "execution_count": 30,
   "metadata": {},
   "outputs": [
    {
     "data": {
      "text/html": [
       "<div>\n",
       "<style scoped>\n",
       "    .dataframe tbody tr th:only-of-type {\n",
       "        vertical-align: middle;\n",
       "    }\n",
       "\n",
       "    .dataframe tbody tr th {\n",
       "        vertical-align: top;\n",
       "    }\n",
       "\n",
       "    .dataframe thead th {\n",
       "        text-align: right;\n",
       "    }\n",
       "</style>\n",
       "<table border=\"1\" class=\"dataframe\">\n",
       "  <thead>\n",
       "    <tr style=\"text-align: right;\">\n",
       "      <th></th>\n",
       "      <th>temp(int)</th>\n",
       "      <th>atemp(int)</th>\n",
       "      <th>temp(difference)</th>\n",
       "    </tr>\n",
       "  </thead>\n",
       "  <tbody>\n",
       "    <tr>\n",
       "      <th>0</th>\n",
       "      <td>11.0</td>\n",
       "      <td>11.0</td>\n",
       "      <td>0.0</td>\n",
       "    </tr>\n",
       "    <tr>\n",
       "      <th>1</th>\n",
       "      <td>11.0</td>\n",
       "      <td>14.0</td>\n",
       "      <td>-3.0</td>\n",
       "    </tr>\n",
       "    <tr>\n",
       "      <th>2</th>\n",
       "      <td>11.0</td>\n",
       "      <td>14.0</td>\n",
       "      <td>-3.0</td>\n",
       "    </tr>\n",
       "    <tr>\n",
       "      <th>3</th>\n",
       "      <td>11.0</td>\n",
       "      <td>13.0</td>\n",
       "      <td>-2.0</td>\n",
       "    </tr>\n",
       "    <tr>\n",
       "      <th>4</th>\n",
       "      <td>11.0</td>\n",
       "      <td>13.0</td>\n",
       "      <td>-2.0</td>\n",
       "    </tr>\n",
       "  </tbody>\n",
       "</table>\n",
       "</div>"
      ],
      "text/plain": [
       "   temp(int)  atemp(int)  temp(difference)\n",
       "0       11.0        11.0               0.0\n",
       "1       11.0        14.0              -3.0\n",
       "2       11.0        14.0              -3.0\n",
       "3       11.0        13.0              -2.0\n",
       "4       11.0        13.0              -2.0"
      ]
     },
     "execution_count": 30,
     "metadata": {},
     "output_type": "execute_result"
    }
   ],
   "source": [
    "# test 데이터에 반영\n",
    "\n",
    "test[\"temp(difference)\"] = test[\"temp(int)\"] - test[\"atemp(int)\"]\n",
    "test[[\"temp(int)\", \"atemp(int)\", \"temp(difference)\"]].head()"
   ]
  },
  {
   "cell_type": "code",
   "execution_count": 31,
   "metadata": {},
   "outputs": [
    {
     "data": {
      "text/plain": [
       "-4.0     2883\n",
       "-3.0     1308\n",
       "-2.0      904\n",
       "-5.0      560\n",
       "-1.0      409\n",
       "-6.0      211\n",
       " 0.0      156\n",
       "-7.0       22\n",
       "-8.0       17\n",
       "-9.0        8\n",
       " 1.0        6\n",
       "-11.0       4\n",
       "-10.0       4\n",
       " 2.0        1\n",
       "Name: temp(difference), dtype: int64"
      ]
     },
     "execution_count": 31,
     "metadata": {},
     "output_type": "execute_result"
    }
   ],
   "source": [
    "test[\"temp(difference)\"].value_counts()"
   ]
  },
  {
   "cell_type": "code",
   "execution_count": 32,
   "metadata": {},
   "outputs": [
    {
     "data": {
      "text/plain": [
       "-4.0    2883\n",
       "-3.0    1308\n",
       "-2.0     904\n",
       "-5.0     560\n",
       "-1.0     409\n",
       "-6.0     266\n",
       " 0.0     163\n",
       "Name: temp(difference), dtype: int64"
      ]
     },
     "execution_count": 32,
     "metadata": {},
     "output_type": "execute_result"
    }
   ],
   "source": [
    "test.loc[test[\"temp(difference)\"] < -6, \"temp(difference)\"] = -6\n",
    "test.loc[test[\"temp(difference)\"] > 0, \"temp(difference)\"] = 0\n",
    "\n",
    "test[\"temp(difference)\"].value_counts()"
   ]
  },
  {
   "cell_type": "markdown",
   "metadata": {},
   "source": [
    "### humidity 컬럼 분석"
   ]
  },
  {
   "cell_type": "code",
   "execution_count": 33,
   "metadata": {},
   "outputs": [
    {
     "data": {
      "text/plain": [
       "<matplotlib.axes._subplots.AxesSubplot at 0x1a1f7f4d68>"
      ]
     },
     "execution_count": 33,
     "metadata": {},
     "output_type": "execute_result"
    },
    {
     "data": {
      "image/png": "[encoded data removed]",
      "text/plain": [
       "<Figure size 432x288 with 1 Axes>"
      ]
     },
     "metadata": {
      "needs_background": "light"
     },
     "output_type": "display_data"
    }
   ],
   "source": [
    "sns.distplot(train[\"humidity\"])"
   ]
  },
  {
   "cell_type": "code",
   "execution_count": 34,
   "metadata": {},
   "outputs": [
    {
     "data": {
      "text/plain": [
       "<matplotlib.axes._subplots.AxesSubplot at 0x1a1f7efb38>"
      ]
     },
     "execution_count": 34,
     "metadata": {},
     "output_type": "execute_result"
    },
    {
     "data": {
      "image/png": "[encoded data removed]",
      "text/plain": [
       "<Figure size 1296x288 with 1 Axes>"
      ]
     },
     "metadata": {
      "needs_background": "light"
     },
     "output_type": "display_data"
    }
   ],
   "source": [
    "plt.figure(figsize = (18, 4))\n",
    "\n",
    "sns.pointplot(data = train, x = \"humidity\", y = \"count\")"
   ]
  },
  {
   "cell_type": "code",
   "execution_count": 35,
   "metadata": {},
   "outputs": [
    {
     "data": {
      "text/plain": [
       "array([ 81,  80,  75,  86,  76,  77,  72,  82,  88,  87,  94, 100,  71,\n",
       "        66,  57,  46,  42,  39,  44,  47,  50,  43,  40,  35,  30,  32,\n",
       "        64,  69,  55,  59,  63,  68,  74,  51,  56,  52,  49,  48,  37,\n",
       "        33,  28,  38,  36,  93,  29,  53,  34,  54,  41,  45,  92,  62,\n",
       "        58,  61,  60,  65,  70,  27,  25,  26,  31,  73,  21,  24,  23,\n",
       "        22,  19,  15,  67,  10,   8,  12,  14,  13,  17,  16,  18,  20,\n",
       "        85,   0,  83,  84,  78,  79,  89,  97,  90,  96,  91])"
      ]
     },
     "execution_count": 35,
     "metadata": {},
     "output_type": "execute_result"
    }
   ],
   "source": [
    "train[\"humidity\"].unique()"
   ]
  },
  {
   "cell_type": "markdown",
   "metadata": {},
   "source": [
    "### windspeed 컬럼 분석"
   ]
  },
  {
   "cell_type": "code",
   "execution_count": 36,
   "metadata": {},
   "outputs": [
    {
     "data": {
      "text/plain": [
       "<matplotlib.axes._subplots.AxesSubplot at 0x1a2034f710>"
      ]
     },
     "execution_count": 36,
     "metadata": {},
     "output_type": "execute_result"
    },
    {
     "data": {
      "image/png": "[encoded data removed]",
      "text/plain": [
       "<Figure size 432x288 with 1 Axes>"
      ]
     },
     "metadata": {
      "needs_background": "light"
     },
     "output_type": "display_data"
    }
   ],
   "source": [
    "sns.distplot(train[\"windspeed\"])"
   ]
  },
  {
   "cell_type": "code",
   "execution_count": 37,
   "metadata": {},
   "outputs": [
    {
     "data": {
      "text/plain": [
       "<matplotlib.axes._subplots.AxesSubplot at 0x1a2034fdd8>"
      ]
     },
     "execution_count": 37,
     "metadata": {},
     "output_type": "execute_result"
    },
    {
     "data": {
      "image/png": "[encoded data removed]",
      "text/plain": [
       "<Figure size 1296x288 with 1 Axes>"
      ]
     },
     "metadata": {
      "needs_background": "light"
     },
     "output_type": "display_data"
    }
   ],
   "source": [
    "plt.figure(figsize = (18, 4))\n",
    "\n",
    "sns.pointplot(data = train, x = \"windspeed\", y = \"count\")"
   ]
  },
  {
   "cell_type": "code",
   "execution_count": 38,
   "metadata": {},
   "outputs": [
    {
     "data": {
      "text/plain": [
       "0.0     1313\n",
       "9.0     1120\n",
       "11.0    1057\n",
       "13.0    1042\n",
       "7.0     1034\n",
       "15.0     961\n",
       "6.0      872\n",
       "17.0     824\n",
       "19.0     676\n",
       "20.0     492\n",
       "22.0     372\n",
       "24.0     274\n",
       "26.0     235\n",
       "28.0     187\n",
       "30.0     111\n",
       "31.0      89\n",
       "33.0      80\n",
       "35.0      58\n",
       "39.0      27\n",
       "37.0      22\n",
       "43.0      12\n",
       "41.0      11\n",
       "44.0       8\n",
       "46.0       3\n",
       "48.0       2\n",
       "57.0       2\n",
       "52.0       1\n",
       "50.0       1\n",
       "Name: windspeed(int), dtype: int64"
      ]
     },
     "execution_count": 38,
     "metadata": {},
     "output_type": "execute_result"
    }
   ],
   "source": [
    "# windspeed 의 값을 반올림 하여 정수(int)로 변환\n",
    "\n",
    "train[\"windspeed(int)\"] = train[\"windspeed\"].round()\n",
    "\n",
    "train[\"windspeed(int)\"].value_counts()"
   ]
  },
  {
   "cell_type": "code",
   "execution_count": 39,
   "metadata": {},
   "outputs": [
    {
     "data": {
      "text/plain": [
       "<matplotlib.axes._subplots.AxesSubplot at 0x1a20576710>"
      ]
     },
     "execution_count": 39,
     "metadata": {},
     "output_type": "execute_result"
    },
    {
     "data": {
      "image/png": "[encoded data removed]",
      "text/plain": [
       "<Figure size 1296x288 with 1 Axes>"
      ]
     },
     "metadata": {
      "needs_background": "light"
     },
     "output_type": "display_data"
    }
   ],
   "source": [
    "plt.figure(figsize = (18, 4))\n",
    "\n",
    "sns.pointplot(data = train, x = \"windspeed(int)\", y = \"count\")\n",
    "\n",
    "# windspeed(int) 는 바람이 적당 할수록 자전거 대여량이 많다는 점이 확인 되나, 신뢰 구간의 범위가 넓은 편"
   ]
  },
  {
   "cell_type": "code",
   "execution_count": 40,
   "metadata": {},
   "outputs": [
    {
     "data": {
      "text/plain": [
       "0.0     867\n",
       "11.0    638\n",
       "9.0     618\n",
       "13.0    615\n",
       "7.0     583\n",
       "6.0     553\n",
       "15.0    552\n",
       "17.0    471\n",
       "19.0    372\n",
       "20.0    316\n",
       "22.0    230\n",
       "24.0    186\n",
       "26.0    146\n",
       "28.0    109\n",
       "30.0     65\n",
       "31.0     57\n",
       "33.0     32\n",
       "35.0     26\n",
       "37.0     17\n",
       "39.0     17\n",
       "41.0     12\n",
       "44.0      3\n",
       "43.0      2\n",
       "54.0      2\n",
       "46.0      2\n",
       "50.0      1\n",
       "56.0      1\n",
       "Name: windspeed(int), dtype: int64"
      ]
     },
     "execution_count": 40,
     "metadata": {},
     "output_type": "execute_result"
    }
   ],
   "source": [
    "# test 데이터 반영\n",
    "\n",
    "test[\"windspeed(int)\"] = test[\"windspeed\"].round()\n",
    "test[\"windspeed(int)\"].value_counts()"
   ]
  },
  {
   "cell_type": "code",
   "execution_count": 41,
   "metadata": {},
   "outputs": [
    {
     "name": "stdout",
     "output_type": "stream",
     "text": [
      "season\n",
      "1    15.0\n",
      "2    13.0\n",
      "3    12.0\n",
      "4    12.0\n",
      "Name: windspeed(int), dtype: float64\n"
     ]
    }
   ],
   "source": [
    "print(train.groupby(\"season\")[\"windspeed(int)\"].mean().round())"
   ]
  },
  {
   "cell_type": "code",
   "execution_count": 42,
   "metadata": {},
   "outputs": [
    {
     "name": "stdout",
     "output_type": "stream",
     "text": [
      "(10886, 30)\n"
     ]
    },
    {
     "data": {
      "text/html": [
       "<div>\n",
       "<style scoped>\n",
       "    .dataframe tbody tr th:only-of-type {\n",
       "        vertical-align: middle;\n",
       "    }\n",
       "\n",
       "    .dataframe tbody tr th {\n",
       "        vertical-align: top;\n",
       "    }\n",
       "\n",
       "    .dataframe thead th {\n",
       "        text-align: right;\n",
       "    }\n",
       "</style>\n",
       "<table border=\"1\" class=\"dataframe\">\n",
       "  <thead>\n",
       "    <tr style=\"text-align: right;\">\n",
       "      <th></th>\n",
       "      <th>windspeed(int)</th>\n",
       "      <th>windspeed-encode</th>\n",
       "    </tr>\n",
       "  </thead>\n",
       "  <tbody>\n",
       "    <tr>\n",
       "      <th>0</th>\n",
       "      <td>0.0</td>\n",
       "      <td>15.0</td>\n",
       "    </tr>\n",
       "    <tr>\n",
       "      <th>1</th>\n",
       "      <td>0.0</td>\n",
       "      <td>15.0</td>\n",
       "    </tr>\n",
       "    <tr>\n",
       "      <th>2</th>\n",
       "      <td>0.0</td>\n",
       "      <td>15.0</td>\n",
       "    </tr>\n",
       "    <tr>\n",
       "      <th>3</th>\n",
       "      <td>0.0</td>\n",
       "      <td>15.0</td>\n",
       "    </tr>\n",
       "    <tr>\n",
       "      <th>4</th>\n",
       "      <td>0.0</td>\n",
       "      <td>15.0</td>\n",
       "    </tr>\n",
       "  </tbody>\n",
       "</table>\n",
       "</div>"
      ],
      "text/plain": [
       "   windspeed(int)  windspeed-encode\n",
       "0             0.0              15.0\n",
       "1             0.0              15.0\n",
       "2             0.0              15.0\n",
       "3             0.0              15.0\n",
       "4             0.0              15.0"
      ]
     },
     "execution_count": 42,
     "metadata": {},
     "output_type": "execute_result"
    }
   ],
   "source": [
    "train[\"windspeed-encode\"] = train[\"windspeed(int)\"]\n",
    "\n",
    "train.loc[(train[\"windspeed(int)\"] == 0) & (train[\"season\"] == 1), \"windspeed-encode\"] = 15\n",
    "train.loc[(train[\"windspeed(int)\"] == 0) & (train[\"season\"] == 2), \"windspeed-encode\"] = 13\n",
    "train.loc[(train[\"windspeed(int)\"] == 0) & (train[\"season\"] == 3), \"windspeed-encode\"] = 12\n",
    "train.loc[(train[\"windspeed(int)\"] == 0) & (train[\"season\"] == 4), \"windspeed-encode\"] = 12\n",
    "\n",
    "print(train.shape)\n",
    "train[[\"windspeed(int)\", \"windspeed-encode\"]].head()\n"
   ]
  },
  {
   "cell_type": "code",
   "execution_count": 43,
   "metadata": {},
   "outputs": [
    {
     "data": {
      "text/plain": [
       "<matplotlib.axes._subplots.AxesSubplot at 0x10aa31860>"
      ]
     },
     "execution_count": 43,
     "metadata": {},
     "output_type": "execute_result"
    },
    {
     "data": {
      "image/png": "[encoded data removed]",
      "text/plain": [
       "<Figure size 432x288 with 1 Axes>"
      ]
     },
     "metadata": {
      "needs_background": "light"
     },
     "output_type": "display_data"
    }
   ],
   "source": [
    "sns.pointplot(data = train, x = \"windspeed-encode\", y = \"count\")"
   ]
  },
  {
   "cell_type": "code",
   "execution_count": 44,
   "metadata": {},
   "outputs": [
    {
     "data": {
      "text/plain": [
       "13.0    1310\n",
       "15.0    1224\n",
       "9.0     1120\n",
       "11.0    1057\n",
       "7.0     1034\n",
       "6.0      872\n",
       "17.0     824\n",
       "12.0     782\n",
       "19.0     676\n",
       "20.0     492\n",
       "22.0     372\n",
       "24.0     274\n",
       "26.0     235\n",
       "28.0     187\n",
       "30.0     111\n",
       "31.0      89\n",
       "33.0      80\n",
       "35.0      58\n",
       "39.0      27\n",
       "37.0      22\n",
       "43.0      12\n",
       "41.0      11\n",
       "44.0       8\n",
       "46.0       3\n",
       "48.0       2\n",
       "57.0       2\n",
       "50.0       1\n",
       "52.0       1\n",
       "Name: windspeed-encode, dtype: int64"
      ]
     },
     "execution_count": 44,
     "metadata": {},
     "output_type": "execute_result"
    }
   ],
   "source": [
    "# 모수가 적은 데이터를 하나로 합치기\n",
    "\n",
    "train[\"windspeed-encode\"].value_counts()"
   ]
  },
  {
   "cell_type": "code",
   "execution_count": 45,
   "metadata": {},
   "outputs": [
    {
     "data": {
      "text/plain": [
       "13.0    1310\n",
       "15.0    1224\n",
       "9.0     1120\n",
       "11.0    1057\n",
       "7.0     1034\n",
       "6.0      872\n",
       "17.0     824\n",
       "12.0     782\n",
       "19.0     676\n",
       "20.0     492\n",
       "30.0     427\n",
       "22.0     372\n",
       "24.0     274\n",
       "26.0     235\n",
       "28.0     187\n",
       "Name: windspeed-encode, dtype: int64"
      ]
     },
     "execution_count": 45,
     "metadata": {},
     "output_type": "execute_result"
    }
   ],
   "source": [
    "train.loc[train[\"windspeed-encode\"] > 30, \"windspeed-encode\"] = 30\n",
    "\n",
    "train[\"windspeed-encode\"].value_counts()"
   ]
  },
  {
   "cell_type": "code",
   "execution_count": 46,
   "metadata": {},
   "outputs": [
    {
     "name": "stdout",
     "output_type": "stream",
     "text": [
      "season\n",
      "1    14.0\n",
      "2    14.0\n",
      "3    11.0\n",
      "4    11.0\n",
      "Name: windspeed(int), dtype: float64\n"
     ]
    }
   ],
   "source": [
    "# test 데이터 반영\n",
    "\n",
    "print(test.groupby(\"season\")[\"windspeed(int)\"].mean().round())"
   ]
  },
  {
   "cell_type": "code",
   "execution_count": 47,
   "metadata": {},
   "outputs": [
    {
     "name": "stdout",
     "output_type": "stream",
     "text": [
      "(6493, 27)\n"
     ]
    },
    {
     "data": {
      "text/html": [
       "<div>\n",
       "<style scoped>\n",
       "    .dataframe tbody tr th:only-of-type {\n",
       "        vertical-align: middle;\n",
       "    }\n",
       "\n",
       "    .dataframe tbody tr th {\n",
       "        vertical-align: top;\n",
       "    }\n",
       "\n",
       "    .dataframe thead th {\n",
       "        text-align: right;\n",
       "    }\n",
       "</style>\n",
       "<table border=\"1\" class=\"dataframe\">\n",
       "  <thead>\n",
       "    <tr style=\"text-align: right;\">\n",
       "      <th></th>\n",
       "      <th>windspeed(int)</th>\n",
       "      <th>windspeed-encode</th>\n",
       "    </tr>\n",
       "  </thead>\n",
       "  <tbody>\n",
       "    <tr>\n",
       "      <th>0</th>\n",
       "      <td>26.0</td>\n",
       "      <td>26.0</td>\n",
       "    </tr>\n",
       "    <tr>\n",
       "      <th>1</th>\n",
       "      <td>0.0</td>\n",
       "      <td>14.0</td>\n",
       "    </tr>\n",
       "    <tr>\n",
       "      <th>2</th>\n",
       "      <td>0.0</td>\n",
       "      <td>14.0</td>\n",
       "    </tr>\n",
       "    <tr>\n",
       "      <th>3</th>\n",
       "      <td>11.0</td>\n",
       "      <td>11.0</td>\n",
       "    </tr>\n",
       "    <tr>\n",
       "      <th>4</th>\n",
       "      <td>11.0</td>\n",
       "      <td>11.0</td>\n",
       "    </tr>\n",
       "  </tbody>\n",
       "</table>\n",
       "</div>"
      ],
      "text/plain": [
       "   windspeed(int)  windspeed-encode\n",
       "0            26.0              26.0\n",
       "1             0.0              14.0\n",
       "2             0.0              14.0\n",
       "3            11.0              11.0\n",
       "4            11.0              11.0"
      ]
     },
     "execution_count": 47,
     "metadata": {},
     "output_type": "execute_result"
    }
   ],
   "source": [
    "test[\"windspeed-encode\"] = test[\"windspeed(int)\"]\n",
    "\n",
    "test.loc[(test[\"windspeed(int)\"] == 0) & (test[\"season\"] == 1), \"windspeed-encode\"] = 14\n",
    "test.loc[(test[\"windspeed(int)\"] == 0) & (test[\"season\"] == 2), \"windspeed-encode\"] = 14\n",
    "test.loc[(test[\"windspeed(int)\"] == 0) & (test[\"season\"] == 3), \"windspeed-encode\"] = 11\n",
    "test.loc[(test[\"windspeed(int)\"] == 0) & (test[\"season\"] == 4), \"windspeed-encode\"] = 11\n",
    "\n",
    "print(test.shape)\n",
    "test[[\"windspeed(int)\", \"windspeed-encode\"]].head()\n"
   ]
  },
  {
   "cell_type": "code",
   "execution_count": 48,
   "metadata": {},
   "outputs": [
    {
     "data": {
      "text/plain": [
       "11.0    1202\n",
       "9.0      618\n",
       "13.0     615\n",
       "7.0      583\n",
       "6.0      553\n",
       "15.0     552\n",
       "17.0     471\n",
       "19.0     372\n",
       "20.0     316\n",
       "14.0     303\n",
       "22.0     230\n",
       "24.0     186\n",
       "26.0     146\n",
       "28.0     109\n",
       "30.0      65\n",
       "31.0      57\n",
       "33.0      32\n",
       "35.0      26\n",
       "37.0      17\n",
       "39.0      17\n",
       "41.0      12\n",
       "44.0       3\n",
       "43.0       2\n",
       "54.0       2\n",
       "46.0       2\n",
       "50.0       1\n",
       "56.0       1\n",
       "Name: windspeed-encode, dtype: int64"
      ]
     },
     "execution_count": 48,
     "metadata": {},
     "output_type": "execute_result"
    }
   ],
   "source": [
    "test[\"windspeed-encode\"].value_counts()"
   ]
  },
  {
   "cell_type": "code",
   "execution_count": 49,
   "metadata": {},
   "outputs": [
    {
     "data": {
      "text/plain": [
       "11.0    1202\n",
       "9.0      618\n",
       "13.0     615\n",
       "7.0      583\n",
       "6.0      553\n",
       "15.0     552\n",
       "17.0     471\n",
       "19.0     372\n",
       "28.0     346\n",
       "20.0     316\n",
       "14.0     303\n",
       "22.0     230\n",
       "24.0     186\n",
       "26.0     146\n",
       "Name: windspeed-encode, dtype: int64"
      ]
     },
     "execution_count": 49,
     "metadata": {},
     "output_type": "execute_result"
    }
   ],
   "source": [
    "test.loc[test[\"windspeed-encode\"] > 28, \"windspeed-encode\"] = 28\n",
    "\n",
    "test[\"windspeed-encode\"].value_counts()"
   ]
  },
  {
   "cell_type": "markdown",
   "metadata": {},
   "source": [
    "### casual, registered 컬럼 분석"
   ]
  },
  {
   "cell_type": "code",
   "execution_count": 50,
   "metadata": {},
   "outputs": [
    {
     "data": {
      "text/plain": [
       "<matplotlib.axes._subplots.AxesSubplot at 0x1a20893860>"
      ]
     },
     "execution_count": 50,
     "metadata": {},
     "output_type": "execute_result"
    },
    {
     "data": {
      "image/png": "[encoded data removed]",
      "text/plain": [
       "<Figure size 1296x288 with 1 Axes>"
      ]
     },
     "metadata": {
      "needs_background": "light"
     },
     "output_type": "display_data"
    }
   ],
   "source": [
    "plt.figure(figsize = (18, 4))\n",
    "\n",
    "sns.pointplot(data=train, x=\"datetime-hour\", y=\"casual\", hue=\"workingday\")\n",
    "\n",
    "# casual 컬럼은 근무일 보다는 공휴일에 자전거를 많이 대여하며 주로 10시 ~ 18시 사이에 빌린다는 것을 확인 "
   ]
  },
  {
   "cell_type": "code",
   "execution_count": 51,
   "metadata": {},
   "outputs": [
    {
     "data": {
      "text/plain": [
       "<matplotlib.axes._subplots.AxesSubplot at 0x1a1e407780>"
      ]
     },
     "execution_count": 51,
     "metadata": {},
     "output_type": "execute_result"
    },
    {
     "data": {
      "image/png": "[encoded data removed]",
      "text/plain": [
       "<Figure size 1296x288 with 1 Axes>"
      ]
     },
     "metadata": {
      "needs_background": "light"
     },
     "output_type": "display_data"
    }
   ],
   "source": [
    "plt.figure(figsize = (18, 4))\n",
    "\n",
    "sns.pointplot(data=train, x=\"datetime-hour\", y=\"registered\", hue=\"workingday\")\n",
    "\n",
    "# registered 컬럼은 공휴일 보다는 근무일에 자전거를 많이 대여하며 주로 7시 ~ 9시와 17시 ~ 19시 사이에 빌린다는 것을 확인"
   ]
  },
  {
   "cell_type": "markdown",
   "metadata": {},
   "source": [
    "### datetime-dayofweek 컬럼 생성 및 분석"
   ]
  },
  {
   "cell_type": "code",
   "execution_count": 52,
   "metadata": {},
   "outputs": [
    {
     "name": "stdout",
     "output_type": "stream",
     "text": [
      "(10886, 31)\n"
     ]
    },
    {
     "data": {
      "text/html": [
       "<div>\n",
       "<style scoped>\n",
       "    .dataframe tbody tr th:only-of-type {\n",
       "        vertical-align: middle;\n",
       "    }\n",
       "\n",
       "    .dataframe tbody tr th {\n",
       "        vertical-align: top;\n",
       "    }\n",
       "\n",
       "    .dataframe thead th {\n",
       "        text-align: right;\n",
       "    }\n",
       "</style>\n",
       "<table border=\"1\" class=\"dataframe\">\n",
       "  <thead>\n",
       "    <tr style=\"text-align: right;\">\n",
       "      <th></th>\n",
       "      <th>datetime</th>\n",
       "      <th>datetime-dayofweek</th>\n",
       "    </tr>\n",
       "  </thead>\n",
       "  <tbody>\n",
       "    <tr>\n",
       "      <th>0</th>\n",
       "      <td>2011-01-01 00:00:00</td>\n",
       "      <td>Saturday</td>\n",
       "    </tr>\n",
       "    <tr>\n",
       "      <th>1</th>\n",
       "      <td>2011-01-01 01:00:00</td>\n",
       "      <td>Saturday</td>\n",
       "    </tr>\n",
       "    <tr>\n",
       "      <th>2</th>\n",
       "      <td>2011-01-01 02:00:00</td>\n",
       "      <td>Saturday</td>\n",
       "    </tr>\n",
       "    <tr>\n",
       "      <th>3</th>\n",
       "      <td>2011-01-01 03:00:00</td>\n",
       "      <td>Saturday</td>\n",
       "    </tr>\n",
       "    <tr>\n",
       "      <th>4</th>\n",
       "      <td>2011-01-01 04:00:00</td>\n",
       "      <td>Saturday</td>\n",
       "    </tr>\n",
       "  </tbody>\n",
       "</table>\n",
       "</div>"
      ],
      "text/plain": [
       "             datetime datetime-dayofweek\n",
       "0 2011-01-01 00:00:00           Saturday\n",
       "1 2011-01-01 01:00:00           Saturday\n",
       "2 2011-01-01 02:00:00           Saturday\n",
       "3 2011-01-01 03:00:00           Saturday\n",
       "4 2011-01-01 04:00:00           Saturday"
      ]
     },
     "execution_count": 52,
     "metadata": {},
     "output_type": "execute_result"
    }
   ],
   "source": [
    "# datetime-dayofweek 컬럼 생성\n",
    "\n",
    "train[\"datetime-dayofweek\"] = train[\"datetime\"].dt.day_name()\n",
    "\n",
    "print(train.shape)\n",
    "train[[\"datetime\", \"datetime-dayofweek\"]].head()"
   ]
  },
  {
   "cell_type": "code",
   "execution_count": 53,
   "metadata": {},
   "outputs": [],
   "source": [
    "# 숫자로 변경\n",
    "\n",
    "train[\"datetime-dayofweek(int)\"] = train[\"datetime\"].dt.dayofweek"
   ]
  },
  {
   "cell_type": "code",
   "execution_count": 54,
   "metadata": {},
   "outputs": [
    {
     "data": {
      "text/plain": [
       "<matplotlib.axes._subplots.AxesSubplot at 0x1a20f20f28>"
      ]
     },
     "execution_count": 54,
     "metadata": {},
     "output_type": "execute_result"
    },
    {
     "data": {
      "image/png": "[encoded data removed]",
      "text/plain": [
       "<Figure size 1296x288 with 1 Axes>"
      ]
     },
     "metadata": {
      "needs_background": "light"
     },
     "output_type": "display_data"
    }
   ],
   "source": [
    "plt.figure(figsize = (18, 4))\n",
    "\n",
    "dayofweek_order = [\"Monday\", \"Tuesday\", \"Wednesday\", \"Thursday\", \"Friday\", \"Saturday\", \"Sunday\"]\n",
    "\n",
    "sns.pointplot(data=train, x=\"datetime-hour\", y=\"count\", hue=\"datetime-dayofweek\", hue_order=dayofweek_order)\n",
    "\n",
    "# datetime-dayofweek 에 따른 자전거 대여량의 변화를 확인 할 수 있음"
   ]
  },
  {
   "cell_type": "code",
   "execution_count": 55,
   "metadata": {},
   "outputs": [
    {
     "name": "stdout",
     "output_type": "stream",
     "text": [
      "(10886, 39)\n"
     ]
    },
    {
     "data": {
      "text/html": [
       "<div>\n",
       "<style scoped>\n",
       "    .dataframe tbody tr th:only-of-type {\n",
       "        vertical-align: middle;\n",
       "    }\n",
       "\n",
       "    .dataframe tbody tr th {\n",
       "        vertical-align: top;\n",
       "    }\n",
       "\n",
       "    .dataframe thead th {\n",
       "        text-align: right;\n",
       "    }\n",
       "</style>\n",
       "<table border=\"1\" class=\"dataframe\">\n",
       "  <thead>\n",
       "    <tr style=\"text-align: right;\">\n",
       "      <th></th>\n",
       "      <th>datetime</th>\n",
       "      <th>season</th>\n",
       "      <th>holiday</th>\n",
       "      <th>workingday</th>\n",
       "      <th>weather</th>\n",
       "      <th>temp</th>\n",
       "      <th>atemp</th>\n",
       "      <th>humidity</th>\n",
       "      <th>windspeed</th>\n",
       "      <th>casual</th>\n",
       "      <th>...</th>\n",
       "      <th>windspeed-encode</th>\n",
       "      <th>datetime-dayofweek</th>\n",
       "      <th>datetime-dayofweek(int)</th>\n",
       "      <th>datetime-monday</th>\n",
       "      <th>datetime-tuesday</th>\n",
       "      <th>datetime-wednesday</th>\n",
       "      <th>datetime-thursday</th>\n",
       "      <th>datetime-friday</th>\n",
       "      <th>datetime-saturday</th>\n",
       "      <th>datetime-sunday</th>\n",
       "    </tr>\n",
       "  </thead>\n",
       "  <tbody>\n",
       "    <tr>\n",
       "      <th>0</th>\n",
       "      <td>2011-01-01 00:00:00</td>\n",
       "      <td>1</td>\n",
       "      <td>0</td>\n",
       "      <td>0</td>\n",
       "      <td>1</td>\n",
       "      <td>9.84</td>\n",
       "      <td>14.395</td>\n",
       "      <td>81</td>\n",
       "      <td>0.0</td>\n",
       "      <td>3</td>\n",
       "      <td>...</td>\n",
       "      <td>15.0</td>\n",
       "      <td>Saturday</td>\n",
       "      <td>5</td>\n",
       "      <td>False</td>\n",
       "      <td>False</td>\n",
       "      <td>False</td>\n",
       "      <td>False</td>\n",
       "      <td>False</td>\n",
       "      <td>True</td>\n",
       "      <td>False</td>\n",
       "    </tr>\n",
       "    <tr>\n",
       "      <th>1</th>\n",
       "      <td>2011-01-01 01:00:00</td>\n",
       "      <td>1</td>\n",
       "      <td>0</td>\n",
       "      <td>0</td>\n",
       "      <td>1</td>\n",
       "      <td>9.02</td>\n",
       "      <td>13.635</td>\n",
       "      <td>80</td>\n",
       "      <td>0.0</td>\n",
       "      <td>8</td>\n",
       "      <td>...</td>\n",
       "      <td>15.0</td>\n",
       "      <td>Saturday</td>\n",
       "      <td>5</td>\n",
       "      <td>False</td>\n",
       "      <td>False</td>\n",
       "      <td>False</td>\n",
       "      <td>False</td>\n",
       "      <td>False</td>\n",
       "      <td>True</td>\n",
       "      <td>False</td>\n",
       "    </tr>\n",
       "    <tr>\n",
       "      <th>2</th>\n",
       "      <td>2011-01-01 02:00:00</td>\n",
       "      <td>1</td>\n",
       "      <td>0</td>\n",
       "      <td>0</td>\n",
       "      <td>1</td>\n",
       "      <td>9.02</td>\n",
       "      <td>13.635</td>\n",
       "      <td>80</td>\n",
       "      <td>0.0</td>\n",
       "      <td>5</td>\n",
       "      <td>...</td>\n",
       "      <td>15.0</td>\n",
       "      <td>Saturday</td>\n",
       "      <td>5</td>\n",
       "      <td>False</td>\n",
       "      <td>False</td>\n",
       "      <td>False</td>\n",
       "      <td>False</td>\n",
       "      <td>False</td>\n",
       "      <td>True</td>\n",
       "      <td>False</td>\n",
       "    </tr>\n",
       "    <tr>\n",
       "      <th>3</th>\n",
       "      <td>2011-01-01 03:00:00</td>\n",
       "      <td>1</td>\n",
       "      <td>0</td>\n",
       "      <td>0</td>\n",
       "      <td>1</td>\n",
       "      <td>9.84</td>\n",
       "      <td>14.395</td>\n",
       "      <td>75</td>\n",
       "      <td>0.0</td>\n",
       "      <td>3</td>\n",
       "      <td>...</td>\n",
       "      <td>15.0</td>\n",
       "      <td>Saturday</td>\n",
       "      <td>5</td>\n",
       "      <td>False</td>\n",
       "      <td>False</td>\n",
       "      <td>False</td>\n",
       "      <td>False</td>\n",
       "      <td>False</td>\n",
       "      <td>True</td>\n",
       "      <td>False</td>\n",
       "    </tr>\n",
       "    <tr>\n",
       "      <th>4</th>\n",
       "      <td>2011-01-01 04:00:00</td>\n",
       "      <td>1</td>\n",
       "      <td>0</td>\n",
       "      <td>0</td>\n",
       "      <td>1</td>\n",
       "      <td>9.84</td>\n",
       "      <td>14.395</td>\n",
       "      <td>75</td>\n",
       "      <td>0.0</td>\n",
       "      <td>0</td>\n",
       "      <td>...</td>\n",
       "      <td>15.0</td>\n",
       "      <td>Saturday</td>\n",
       "      <td>5</td>\n",
       "      <td>False</td>\n",
       "      <td>False</td>\n",
       "      <td>False</td>\n",
       "      <td>False</td>\n",
       "      <td>False</td>\n",
       "      <td>True</td>\n",
       "      <td>False</td>\n",
       "    </tr>\n",
       "  </tbody>\n",
       "</table>\n",
       "<p>5 rows × 39 columns</p>\n",
       "</div>"
      ],
      "text/plain": [
       "             datetime  season  holiday  workingday  weather  temp   atemp  \\\n",
       "0 2011-01-01 00:00:00       1        0           0        1  9.84  14.395   \n",
       "1 2011-01-01 01:00:00       1        0           0        1  9.02  13.635   \n",
       "2 2011-01-01 02:00:00       1        0           0        1  9.02  13.635   \n",
       "3 2011-01-01 03:00:00       1        0           0        1  9.84  14.395   \n",
       "4 2011-01-01 04:00:00       1        0           0        1  9.84  14.395   \n",
       "\n",
       "   humidity  windspeed  casual  ...  windspeed-encode  datetime-dayofweek  \\\n",
       "0        81        0.0       3  ...              15.0            Saturday   \n",
       "1        80        0.0       8  ...              15.0            Saturday   \n",
       "2        80        0.0       5  ...              15.0            Saturday   \n",
       "3        75        0.0       3  ...              15.0            Saturday   \n",
       "4        75        0.0       0  ...              15.0            Saturday   \n",
       "\n",
       "   datetime-dayofweek(int)  datetime-monday  datetime-tuesday  \\\n",
       "0                        5            False             False   \n",
       "1                        5            False             False   \n",
       "2                        5            False             False   \n",
       "3                        5            False             False   \n",
       "4                        5            False             False   \n",
       "\n",
       "   datetime-wednesday  datetime-thursday  datetime-friday  datetime-saturday  \\\n",
       "0               False              False            False               True   \n",
       "1               False              False            False               True   \n",
       "2               False              False            False               True   \n",
       "3               False              False            False               True   \n",
       "4               False              False            False               True   \n",
       "\n",
       "   datetime-sunday  \n",
       "0            False  \n",
       "1            False  \n",
       "2            False  \n",
       "3            False  \n",
       "4            False  \n",
       "\n",
       "[5 rows x 39 columns]"
      ]
     },
     "execution_count": 55,
     "metadata": {},
     "output_type": "execute_result"
    }
   ],
   "source": [
    "# one hot encoding\n",
    "\n",
    "train[\"datetime-monday\"] = train[\"datetime-dayofweek\"] == \"Monday\"\n",
    "train[\"datetime-tuesday\"] = train[\"datetime-dayofweek\"] == \"Tuesday\"\n",
    "train[\"datetime-wednesday\"] = train[\"datetime-dayofweek\"] == \"Wednesday\"\n",
    "train[\"datetime-thursday\"] = train[\"datetime-dayofweek\"] == \"Thursday\"\n",
    "train[\"datetime-friday\"] = train[\"datetime-dayofweek\"] == \"Friday\"\n",
    "train[\"datetime-saturday\"] = train[\"datetime-dayofweek\"] == \"Saturday\"\n",
    "train[\"datetime-sunday\"] = train[\"datetime-dayofweek\"] == \"Sunday\"\n",
    "\n",
    "print(train.shape)\n",
    "train.head()"
   ]
  },
  {
   "cell_type": "code",
   "execution_count": 56,
   "metadata": {},
   "outputs": [
    {
     "data": {
      "text/html": [
       "<div>\n",
       "<style scoped>\n",
       "    .dataframe tbody tr th:only-of-type {\n",
       "        vertical-align: middle;\n",
       "    }\n",
       "\n",
       "    .dataframe tbody tr th {\n",
       "        vertical-align: top;\n",
       "    }\n",
       "\n",
       "    .dataframe thead th {\n",
       "        text-align: right;\n",
       "    }\n",
       "</style>\n",
       "<table border=\"1\" class=\"dataframe\">\n",
       "  <thead>\n",
       "    <tr style=\"text-align: right;\">\n",
       "      <th></th>\n",
       "      <th>datetime</th>\n",
       "      <th>datetime-dayofweek(int)</th>\n",
       "    </tr>\n",
       "  </thead>\n",
       "  <tbody>\n",
       "    <tr>\n",
       "      <th>0</th>\n",
       "      <td>2011-01-01 00:00:00</td>\n",
       "      <td>5</td>\n",
       "    </tr>\n",
       "    <tr>\n",
       "      <th>1</th>\n",
       "      <td>2011-01-01 01:00:00</td>\n",
       "      <td>5</td>\n",
       "    </tr>\n",
       "    <tr>\n",
       "      <th>2</th>\n",
       "      <td>2011-01-01 02:00:00</td>\n",
       "      <td>5</td>\n",
       "    </tr>\n",
       "    <tr>\n",
       "      <th>3</th>\n",
       "      <td>2011-01-01 03:00:00</td>\n",
       "      <td>5</td>\n",
       "    </tr>\n",
       "    <tr>\n",
       "      <th>4</th>\n",
       "      <td>2011-01-01 04:00:00</td>\n",
       "      <td>5</td>\n",
       "    </tr>\n",
       "  </tbody>\n",
       "</table>\n",
       "</div>"
      ],
      "text/plain": [
       "             datetime  datetime-dayofweek(int)\n",
       "0 2011-01-01 00:00:00                        5\n",
       "1 2011-01-01 01:00:00                        5\n",
       "2 2011-01-01 02:00:00                        5\n",
       "3 2011-01-01 03:00:00                        5\n",
       "4 2011-01-01 04:00:00                        5"
      ]
     },
     "execution_count": 56,
     "metadata": {},
     "output_type": "execute_result"
    }
   ],
   "source": [
    "# dayofweek 숫자로 변경\n",
    "\n",
    "train[\"datetime-dayofweek(int)\"] = train[\"datetime\"].dt.dayofweek\n",
    "\n",
    "train[[\"datetime\", \"datetime-dayofweek(int)\"]].head()"
   ]
  },
  {
   "cell_type": "code",
   "execution_count": 57,
   "metadata": {},
   "outputs": [
    {
     "name": "stdout",
     "output_type": "stream",
     "text": [
      "(10886, 39)\n"
     ]
    },
    {
     "data": {
      "text/html": [
       "<div>\n",
       "<style scoped>\n",
       "    .dataframe tbody tr th:only-of-type {\n",
       "        vertical-align: middle;\n",
       "    }\n",
       "\n",
       "    .dataframe tbody tr th {\n",
       "        vertical-align: top;\n",
       "    }\n",
       "\n",
       "    .dataframe thead th {\n",
       "        text-align: right;\n",
       "    }\n",
       "</style>\n",
       "<table border=\"1\" class=\"dataframe\">\n",
       "  <thead>\n",
       "    <tr style=\"text-align: right;\">\n",
       "      <th></th>\n",
       "      <th>datetime</th>\n",
       "      <th>datetime-dayofweek</th>\n",
       "    </tr>\n",
       "  </thead>\n",
       "  <tbody>\n",
       "    <tr>\n",
       "      <th>0</th>\n",
       "      <td>2011-01-20 00:00:00</td>\n",
       "      <td>Thursday</td>\n",
       "    </tr>\n",
       "    <tr>\n",
       "      <th>1</th>\n",
       "      <td>2011-01-20 01:00:00</td>\n",
       "      <td>Thursday</td>\n",
       "    </tr>\n",
       "    <tr>\n",
       "      <th>2</th>\n",
       "      <td>2011-01-20 02:00:00</td>\n",
       "      <td>Thursday</td>\n",
       "    </tr>\n",
       "    <tr>\n",
       "      <th>3</th>\n",
       "      <td>2011-01-20 03:00:00</td>\n",
       "      <td>Thursday</td>\n",
       "    </tr>\n",
       "    <tr>\n",
       "      <th>4</th>\n",
       "      <td>2011-01-20 04:00:00</td>\n",
       "      <td>Thursday</td>\n",
       "    </tr>\n",
       "  </tbody>\n",
       "</table>\n",
       "</div>"
      ],
      "text/plain": [
       "             datetime datetime-dayofweek\n",
       "0 2011-01-20 00:00:00           Thursday\n",
       "1 2011-01-20 01:00:00           Thursday\n",
       "2 2011-01-20 02:00:00           Thursday\n",
       "3 2011-01-20 03:00:00           Thursday\n",
       "4 2011-01-20 04:00:00           Thursday"
      ]
     },
     "execution_count": 57,
     "metadata": {},
     "output_type": "execute_result"
    }
   ],
   "source": [
    "# test 데이터에 반영\n",
    "\n",
    "test[\"datetime-dayofweek\"] = test[\"datetime\"].dt.day_name()\n",
    "\n",
    "print(train.shape)\n",
    "test[[\"datetime\", \"datetime-dayofweek\"]].head()"
   ]
  },
  {
   "cell_type": "code",
   "execution_count": 60,
   "metadata": {},
   "outputs": [
    {
     "name": "stdout",
     "output_type": "stream",
     "text": [
      "(6493, 36)\n"
     ]
    },
    {
     "data": {
      "text/html": [
       "<div>\n",
       "<style scoped>\n",
       "    .dataframe tbody tr th:only-of-type {\n",
       "        vertical-align: middle;\n",
       "    }\n",
       "\n",
       "    .dataframe tbody tr th {\n",
       "        vertical-align: top;\n",
       "    }\n",
       "\n",
       "    .dataframe thead th {\n",
       "        text-align: right;\n",
       "    }\n",
       "</style>\n",
       "<table border=\"1\" class=\"dataframe\">\n",
       "  <thead>\n",
       "    <tr style=\"text-align: right;\">\n",
       "      <th></th>\n",
       "      <th>datetime</th>\n",
       "      <th>season</th>\n",
       "      <th>holiday</th>\n",
       "      <th>workingday</th>\n",
       "      <th>weather</th>\n",
       "      <th>temp</th>\n",
       "      <th>atemp</th>\n",
       "      <th>humidity</th>\n",
       "      <th>windspeed</th>\n",
       "      <th>datetime-year</th>\n",
       "      <th>...</th>\n",
       "      <th>windspeed-encode</th>\n",
       "      <th>datetime-dayofweek</th>\n",
       "      <th>datetime-monday</th>\n",
       "      <th>datetime-tuesday</th>\n",
       "      <th>datetime-wednesday</th>\n",
       "      <th>datetime-thursday</th>\n",
       "      <th>datetime-friday</th>\n",
       "      <th>datetime-saturday</th>\n",
       "      <th>datetime-sunday</th>\n",
       "      <th>datetime-dayofweek(int)</th>\n",
       "    </tr>\n",
       "  </thead>\n",
       "  <tbody>\n",
       "    <tr>\n",
       "      <th>0</th>\n",
       "      <td>2011-01-20 00:00:00</td>\n",
       "      <td>1</td>\n",
       "      <td>0</td>\n",
       "      <td>1</td>\n",
       "      <td>1</td>\n",
       "      <td>10.66</td>\n",
       "      <td>11.365</td>\n",
       "      <td>56</td>\n",
       "      <td>26.0027</td>\n",
       "      <td>2011</td>\n",
       "      <td>...</td>\n",
       "      <td>26.0</td>\n",
       "      <td>Thursday</td>\n",
       "      <td>False</td>\n",
       "      <td>False</td>\n",
       "      <td>False</td>\n",
       "      <td>True</td>\n",
       "      <td>False</td>\n",
       "      <td>False</td>\n",
       "      <td>False</td>\n",
       "      <td>3</td>\n",
       "    </tr>\n",
       "    <tr>\n",
       "      <th>1</th>\n",
       "      <td>2011-01-20 01:00:00</td>\n",
       "      <td>1</td>\n",
       "      <td>0</td>\n",
       "      <td>1</td>\n",
       "      <td>1</td>\n",
       "      <td>10.66</td>\n",
       "      <td>13.635</td>\n",
       "      <td>56</td>\n",
       "      <td>0.0000</td>\n",
       "      <td>2011</td>\n",
       "      <td>...</td>\n",
       "      <td>14.0</td>\n",
       "      <td>Thursday</td>\n",
       "      <td>False</td>\n",
       "      <td>False</td>\n",
       "      <td>False</td>\n",
       "      <td>True</td>\n",
       "      <td>False</td>\n",
       "      <td>False</td>\n",
       "      <td>False</td>\n",
       "      <td>3</td>\n",
       "    </tr>\n",
       "    <tr>\n",
       "      <th>2</th>\n",
       "      <td>2011-01-20 02:00:00</td>\n",
       "      <td>1</td>\n",
       "      <td>0</td>\n",
       "      <td>1</td>\n",
       "      <td>1</td>\n",
       "      <td>10.66</td>\n",
       "      <td>13.635</td>\n",
       "      <td>56</td>\n",
       "      <td>0.0000</td>\n",
       "      <td>2011</td>\n",
       "      <td>...</td>\n",
       "      <td>14.0</td>\n",
       "      <td>Thursday</td>\n",
       "      <td>False</td>\n",
       "      <td>False</td>\n",
       "      <td>False</td>\n",
       "      <td>True</td>\n",
       "      <td>False</td>\n",
       "      <td>False</td>\n",
       "      <td>False</td>\n",
       "      <td>3</td>\n",
       "    </tr>\n",
       "    <tr>\n",
       "      <th>3</th>\n",
       "      <td>2011-01-20 03:00:00</td>\n",
       "      <td>1</td>\n",
       "      <td>0</td>\n",
       "      <td>1</td>\n",
       "      <td>1</td>\n",
       "      <td>10.66</td>\n",
       "      <td>12.880</td>\n",
       "      <td>56</td>\n",
       "      <td>11.0014</td>\n",
       "      <td>2011</td>\n",
       "      <td>...</td>\n",
       "      <td>11.0</td>\n",
       "      <td>Thursday</td>\n",
       "      <td>False</td>\n",
       "      <td>False</td>\n",
       "      <td>False</td>\n",
       "      <td>True</td>\n",
       "      <td>False</td>\n",
       "      <td>False</td>\n",
       "      <td>False</td>\n",
       "      <td>3</td>\n",
       "    </tr>\n",
       "    <tr>\n",
       "      <th>4</th>\n",
       "      <td>2011-01-20 04:00:00</td>\n",
       "      <td>1</td>\n",
       "      <td>0</td>\n",
       "      <td>1</td>\n",
       "      <td>1</td>\n",
       "      <td>10.66</td>\n",
       "      <td>12.880</td>\n",
       "      <td>56</td>\n",
       "      <td>11.0014</td>\n",
       "      <td>2011</td>\n",
       "      <td>...</td>\n",
       "      <td>11.0</td>\n",
       "      <td>Thursday</td>\n",
       "      <td>False</td>\n",
       "      <td>False</td>\n",
       "      <td>False</td>\n",
       "      <td>True</td>\n",
       "      <td>False</td>\n",
       "      <td>False</td>\n",
       "      <td>False</td>\n",
       "      <td>3</td>\n",
       "    </tr>\n",
       "  </tbody>\n",
       "</table>\n",
       "<p>5 rows × 36 columns</p>\n",
       "</div>"
      ],
      "text/plain": [
       "             datetime  season  holiday  workingday  weather   temp   atemp  \\\n",
       "0 2011-01-20 00:00:00       1        0           1        1  10.66  11.365   \n",
       "1 2011-01-20 01:00:00       1        0           1        1  10.66  13.635   \n",
       "2 2011-01-20 02:00:00       1        0           1        1  10.66  13.635   \n",
       "3 2011-01-20 03:00:00       1        0           1        1  10.66  12.880   \n",
       "4 2011-01-20 04:00:00       1        0           1        1  10.66  12.880   \n",
       "\n",
       "   humidity  windspeed  datetime-year  ...  windspeed-encode  \\\n",
       "0        56    26.0027           2011  ...              26.0   \n",
       "1        56     0.0000           2011  ...              14.0   \n",
       "2        56     0.0000           2011  ...              14.0   \n",
       "3        56    11.0014           2011  ...              11.0   \n",
       "4        56    11.0014           2011  ...              11.0   \n",
       "\n",
       "   datetime-dayofweek  datetime-monday  datetime-tuesday  datetime-wednesday  \\\n",
       "0            Thursday            False             False               False   \n",
       "1            Thursday            False             False               False   \n",
       "2            Thursday            False             False               False   \n",
       "3            Thursday            False             False               False   \n",
       "4            Thursday            False             False               False   \n",
       "\n",
       "   datetime-thursday  datetime-friday  datetime-saturday  datetime-sunday  \\\n",
       "0               True            False              False            False   \n",
       "1               True            False              False            False   \n",
       "2               True            False              False            False   \n",
       "3               True            False              False            False   \n",
       "4               True            False              False            False   \n",
       "\n",
       "   datetime-dayofweek(int)  \n",
       "0                        3  \n",
       "1                        3  \n",
       "2                        3  \n",
       "3                        3  \n",
       "4                        3  \n",
       "\n",
       "[5 rows x 36 columns]"
      ]
     },
     "execution_count": 60,
     "metadata": {},
     "output_type": "execute_result"
    }
   ],
   "source": [
    "test[\"datetime-monday\"] = test[\"datetime-dayofweek\"] == \"Monday\"\n",
    "test[\"datetime-tuesday\"] = test[\"datetime-dayofweek\"] == \"Tuesday\"\n",
    "test[\"datetime-wednesday\"] = test[\"datetime-dayofweek\"] == \"Wednesday\"\n",
    "test[\"datetime-thursday\"] = test[\"datetime-dayofweek\"] == \"Thursday\"\n",
    "test[\"datetime-friday\"] = test[\"datetime-dayofweek\"] == \"Friday\"\n",
    "test[\"datetime-saturday\"] = test[\"datetime-dayofweek\"] == \"Saturday\"\n",
    "test[\"datetime-sunday\"] = test[\"datetime-dayofweek\"] == \"Sunday\"\n",
    "\n",
    "print(test.shape)\n",
    "test.head()"
   ]
  },
  {
   "cell_type": "code",
   "execution_count": 61,
   "metadata": {},
   "outputs": [
    {
     "data": {
      "text/html": [
       "<div>\n",
       "<style scoped>\n",
       "    .dataframe tbody tr th:only-of-type {\n",
       "        vertical-align: middle;\n",
       "    }\n",
       "\n",
       "    .dataframe tbody tr th {\n",
       "        vertical-align: top;\n",
       "    }\n",
       "\n",
       "    .dataframe thead th {\n",
       "        text-align: right;\n",
       "    }\n",
       "</style>\n",
       "<table border=\"1\" class=\"dataframe\">\n",
       "  <thead>\n",
       "    <tr style=\"text-align: right;\">\n",
       "      <th></th>\n",
       "      <th>datetime</th>\n",
       "      <th>datetime-dayofweek(int)</th>\n",
       "    </tr>\n",
       "  </thead>\n",
       "  <tbody>\n",
       "    <tr>\n",
       "      <th>0</th>\n",
       "      <td>2011-01-20 00:00:00</td>\n",
       "      <td>3</td>\n",
       "    </tr>\n",
       "    <tr>\n",
       "      <th>1</th>\n",
       "      <td>2011-01-20 01:00:00</td>\n",
       "      <td>3</td>\n",
       "    </tr>\n",
       "    <tr>\n",
       "      <th>2</th>\n",
       "      <td>2011-01-20 02:00:00</td>\n",
       "      <td>3</td>\n",
       "    </tr>\n",
       "    <tr>\n",
       "      <th>3</th>\n",
       "      <td>2011-01-20 03:00:00</td>\n",
       "      <td>3</td>\n",
       "    </tr>\n",
       "    <tr>\n",
       "      <th>4</th>\n",
       "      <td>2011-01-20 04:00:00</td>\n",
       "      <td>3</td>\n",
       "    </tr>\n",
       "  </tbody>\n",
       "</table>\n",
       "</div>"
      ],
      "text/plain": [
       "             datetime  datetime-dayofweek(int)\n",
       "0 2011-01-20 00:00:00                        3\n",
       "1 2011-01-20 01:00:00                        3\n",
       "2 2011-01-20 02:00:00                        3\n",
       "3 2011-01-20 03:00:00                        3\n",
       "4 2011-01-20 04:00:00                        3"
      ]
     },
     "execution_count": 61,
     "metadata": {},
     "output_type": "execute_result"
    }
   ],
   "source": [
    "test[\"datetime-dayofweek(int)\"] = test[\"datetime\"].dt.dayofweek\n",
    "\n",
    "test[[\"datetime\", \"datetime-dayofweek(int)\"]].head()"
   ]
  },
  {
   "cell_type": "markdown",
   "metadata": {},
   "source": [
    "## Train"
   ]
  },
  {
   "cell_type": "code",
   "execution_count": 106,
   "metadata": {},
   "outputs": [
    {
     "data": {
      "text/plain": [
       "['season-spring',\n",
       " 'season-summer',\n",
       " 'season-autumn',\n",
       " 'season-winter',\n",
       " 'holiday',\n",
       " 'workingday',\n",
       " 'weather-good',\n",
       " 'weather-notbad',\n",
       " 'weather-bad',\n",
       " 'datetime-year',\n",
       " 'datetime-dayofweek(int)',\n",
       " 'datetime-hour',\n",
       " 'temp(int)',\n",
       " 'atemp(int)',\n",
       " 'temp(difference)',\n",
       " 'humidity',\n",
       " 'windspeed-encode']"
      ]
     },
     "execution_count": 106,
     "metadata": {},
     "output_type": "execute_result"
    }
   ],
   "source": [
    "feature_name = [\"season-spring\", \"season-summer\", \"season-autumn\", \"season-winter\", \"holiday\", \"workingday\",\n",
    "                \"weather-good\", \"weather-notbad\", \"weather-bad\", \"datetime-year\", \"datetime-dayofweek(int)\",\n",
    "                \"datetime-hour\", \"temp(int)\", \"atemp(int)\", \"temp(difference)\", \"humidity\", \"windspeed-encode\"]\n",
    "\n",
    "#feature_name = [\"season\", \"holiday\", \"workingday\", \"weather\",\n",
    "#                 \"temp\", \"atemp\", \"humidity\", \"windspeed\",\n",
    "#                 \"datetime-year\", \"datetime-hour\", \"datetime-dayofweek(int)\"]\n",
    "\n",
    "feature_name"
   ]
  },
  {
   "cell_type": "code",
   "execution_count": 107,
   "metadata": {},
   "outputs": [
    {
     "name": "stdout",
     "output_type": "stream",
     "text": [
      "(10886, 17)\n"
     ]
    },
    {
     "data": {
      "text/html": [
       "<div>\n",
       "<style scoped>\n",
       "    .dataframe tbody tr th:only-of-type {\n",
       "        vertical-align: middle;\n",
       "    }\n",
       "\n",
       "    .dataframe tbody tr th {\n",
       "        vertical-align: top;\n",
       "    }\n",
       "\n",
       "    .dataframe thead th {\n",
       "        text-align: right;\n",
       "    }\n",
       "</style>\n",
       "<table border=\"1\" class=\"dataframe\">\n",
       "  <thead>\n",
       "    <tr style=\"text-align: right;\">\n",
       "      <th></th>\n",
       "      <th>season-spring</th>\n",
       "      <th>season-summer</th>\n",
       "      <th>season-autumn</th>\n",
       "      <th>season-winter</th>\n",
       "      <th>holiday</th>\n",
       "      <th>workingday</th>\n",
       "      <th>weather-good</th>\n",
       "      <th>weather-notbad</th>\n",
       "      <th>weather-bad</th>\n",
       "      <th>datetime-year</th>\n",
       "      <th>datetime-dayofweek(int)</th>\n",
       "      <th>datetime-hour</th>\n",
       "      <th>temp(int)</th>\n",
       "      <th>atemp(int)</th>\n",
       "      <th>temp(difference)</th>\n",
       "      <th>humidity</th>\n",
       "      <th>windspeed-encode</th>\n",
       "    </tr>\n",
       "  </thead>\n",
       "  <tbody>\n",
       "    <tr>\n",
       "      <th>0</th>\n",
       "      <td>True</td>\n",
       "      <td>False</td>\n",
       "      <td>False</td>\n",
       "      <td>False</td>\n",
       "      <td>0</td>\n",
       "      <td>0</td>\n",
       "      <td>True</td>\n",
       "      <td>False</td>\n",
       "      <td>False</td>\n",
       "      <td>2011</td>\n",
       "      <td>5</td>\n",
       "      <td>0</td>\n",
       "      <td>10.0</td>\n",
       "      <td>14.0</td>\n",
       "      <td>-4.0</td>\n",
       "      <td>81</td>\n",
       "      <td>15.0</td>\n",
       "    </tr>\n",
       "    <tr>\n",
       "      <th>1</th>\n",
       "      <td>True</td>\n",
       "      <td>False</td>\n",
       "      <td>False</td>\n",
       "      <td>False</td>\n",
       "      <td>0</td>\n",
       "      <td>0</td>\n",
       "      <td>True</td>\n",
       "      <td>False</td>\n",
       "      <td>False</td>\n",
       "      <td>2011</td>\n",
       "      <td>5</td>\n",
       "      <td>1</td>\n",
       "      <td>9.0</td>\n",
       "      <td>14.0</td>\n",
       "      <td>-5.0</td>\n",
       "      <td>80</td>\n",
       "      <td>15.0</td>\n",
       "    </tr>\n",
       "    <tr>\n",
       "      <th>2</th>\n",
       "      <td>True</td>\n",
       "      <td>False</td>\n",
       "      <td>False</td>\n",
       "      <td>False</td>\n",
       "      <td>0</td>\n",
       "      <td>0</td>\n",
       "      <td>True</td>\n",
       "      <td>False</td>\n",
       "      <td>False</td>\n",
       "      <td>2011</td>\n",
       "      <td>5</td>\n",
       "      <td>2</td>\n",
       "      <td>9.0</td>\n",
       "      <td>14.0</td>\n",
       "      <td>-5.0</td>\n",
       "      <td>80</td>\n",
       "      <td>15.0</td>\n",
       "    </tr>\n",
       "    <tr>\n",
       "      <th>3</th>\n",
       "      <td>True</td>\n",
       "      <td>False</td>\n",
       "      <td>False</td>\n",
       "      <td>False</td>\n",
       "      <td>0</td>\n",
       "      <td>0</td>\n",
       "      <td>True</td>\n",
       "      <td>False</td>\n",
       "      <td>False</td>\n",
       "      <td>2011</td>\n",
       "      <td>5</td>\n",
       "      <td>3</td>\n",
       "      <td>10.0</td>\n",
       "      <td>14.0</td>\n",
       "      <td>-4.0</td>\n",
       "      <td>75</td>\n",
       "      <td>15.0</td>\n",
       "    </tr>\n",
       "    <tr>\n",
       "      <th>4</th>\n",
       "      <td>True</td>\n",
       "      <td>False</td>\n",
       "      <td>False</td>\n",
       "      <td>False</td>\n",
       "      <td>0</td>\n",
       "      <td>0</td>\n",
       "      <td>True</td>\n",
       "      <td>False</td>\n",
       "      <td>False</td>\n",
       "      <td>2011</td>\n",
       "      <td>5</td>\n",
       "      <td>4</td>\n",
       "      <td>10.0</td>\n",
       "      <td>14.0</td>\n",
       "      <td>-4.0</td>\n",
       "      <td>75</td>\n",
       "      <td>15.0</td>\n",
       "    </tr>\n",
       "  </tbody>\n",
       "</table>\n",
       "</div>"
      ],
      "text/plain": [
       "   season-spring  season-summer  season-autumn  season-winter  holiday  \\\n",
       "0           True          False          False          False        0   \n",
       "1           True          False          False          False        0   \n",
       "2           True          False          False          False        0   \n",
       "3           True          False          False          False        0   \n",
       "4           True          False          False          False        0   \n",
       "\n",
       "   workingday  weather-good  weather-notbad  weather-bad  datetime-year  \\\n",
       "0           0          True           False        False           2011   \n",
       "1           0          True           False        False           2011   \n",
       "2           0          True           False        False           2011   \n",
       "3           0          True           False        False           2011   \n",
       "4           0          True           False        False           2011   \n",
       "\n",
       "   datetime-dayofweek(int)  datetime-hour  temp(int)  atemp(int)  \\\n",
       "0                        5              0       10.0        14.0   \n",
       "1                        5              1        9.0        14.0   \n",
       "2                        5              2        9.0        14.0   \n",
       "3                        5              3       10.0        14.0   \n",
       "4                        5              4       10.0        14.0   \n",
       "\n",
       "   temp(difference)  humidity  windspeed-encode  \n",
       "0              -4.0        81              15.0  \n",
       "1              -5.0        80              15.0  \n",
       "2              -5.0        80              15.0  \n",
       "3              -4.0        75              15.0  \n",
       "4              -4.0        75              15.0  "
      ]
     },
     "execution_count": 107,
     "metadata": {},
     "output_type": "execute_result"
    }
   ],
   "source": [
    "X_train = train[feature_name]\n",
    "\n",
    "print(X_train.shape)\n",
    "X_train.head()"
   ]
  },
  {
   "cell_type": "code",
   "execution_count": 108,
   "metadata": {},
   "outputs": [
    {
     "name": "stdout",
     "output_type": "stream",
     "text": [
      "(6493, 17)\n"
     ]
    },
    {
     "data": {
      "text/html": [
       "<div>\n",
       "<style scoped>\n",
       "    .dataframe tbody tr th:only-of-type {\n",
       "        vertical-align: middle;\n",
       "    }\n",
       "\n",
       "    .dataframe tbody tr th {\n",
       "        vertical-align: top;\n",
       "    }\n",
       "\n",
       "    .dataframe thead th {\n",
       "        text-align: right;\n",
       "    }\n",
       "</style>\n",
       "<table border=\"1\" class=\"dataframe\">\n",
       "  <thead>\n",
       "    <tr style=\"text-align: right;\">\n",
       "      <th></th>\n",
       "      <th>season-spring</th>\n",
       "      <th>season-summer</th>\n",
       "      <th>season-autumn</th>\n",
       "      <th>season-winter</th>\n",
       "      <th>holiday</th>\n",
       "      <th>workingday</th>\n",
       "      <th>weather-good</th>\n",
       "      <th>weather-notbad</th>\n",
       "      <th>weather-bad</th>\n",
       "      <th>datetime-year</th>\n",
       "      <th>datetime-dayofweek(int)</th>\n",
       "      <th>datetime-hour</th>\n",
       "      <th>temp(int)</th>\n",
       "      <th>atemp(int)</th>\n",
       "      <th>temp(difference)</th>\n",
       "      <th>humidity</th>\n",
       "      <th>windspeed-encode</th>\n",
       "    </tr>\n",
       "  </thead>\n",
       "  <tbody>\n",
       "    <tr>\n",
       "      <th>0</th>\n",
       "      <td>True</td>\n",
       "      <td>False</td>\n",
       "      <td>False</td>\n",
       "      <td>False</td>\n",
       "      <td>0</td>\n",
       "      <td>1</td>\n",
       "      <td>True</td>\n",
       "      <td>False</td>\n",
       "      <td>False</td>\n",
       "      <td>2011</td>\n",
       "      <td>3</td>\n",
       "      <td>0</td>\n",
       "      <td>11.0</td>\n",
       "      <td>11.0</td>\n",
       "      <td>0.0</td>\n",
       "      <td>56</td>\n",
       "      <td>26.0</td>\n",
       "    </tr>\n",
       "    <tr>\n",
       "      <th>1</th>\n",
       "      <td>True</td>\n",
       "      <td>False</td>\n",
       "      <td>False</td>\n",
       "      <td>False</td>\n",
       "      <td>0</td>\n",
       "      <td>1</td>\n",
       "      <td>True</td>\n",
       "      <td>False</td>\n",
       "      <td>False</td>\n",
       "      <td>2011</td>\n",
       "      <td>3</td>\n",
       "      <td>1</td>\n",
       "      <td>11.0</td>\n",
       "      <td>14.0</td>\n",
       "      <td>-3.0</td>\n",
       "      <td>56</td>\n",
       "      <td>14.0</td>\n",
       "    </tr>\n",
       "    <tr>\n",
       "      <th>2</th>\n",
       "      <td>True</td>\n",
       "      <td>False</td>\n",
       "      <td>False</td>\n",
       "      <td>False</td>\n",
       "      <td>0</td>\n",
       "      <td>1</td>\n",
       "      <td>True</td>\n",
       "      <td>False</td>\n",
       "      <td>False</td>\n",
       "      <td>2011</td>\n",
       "      <td>3</td>\n",
       "      <td>2</td>\n",
       "      <td>11.0</td>\n",
       "      <td>14.0</td>\n",
       "      <td>-3.0</td>\n",
       "      <td>56</td>\n",
       "      <td>14.0</td>\n",
       "    </tr>\n",
       "    <tr>\n",
       "      <th>3</th>\n",
       "      <td>True</td>\n",
       "      <td>False</td>\n",
       "      <td>False</td>\n",
       "      <td>False</td>\n",
       "      <td>0</td>\n",
       "      <td>1</td>\n",
       "      <td>True</td>\n",
       "      <td>False</td>\n",
       "      <td>False</td>\n",
       "      <td>2011</td>\n",
       "      <td>3</td>\n",
       "      <td>3</td>\n",
       "      <td>11.0</td>\n",
       "      <td>13.0</td>\n",
       "      <td>-2.0</td>\n",
       "      <td>56</td>\n",
       "      <td>11.0</td>\n",
       "    </tr>\n",
       "    <tr>\n",
       "      <th>4</th>\n",
       "      <td>True</td>\n",
       "      <td>False</td>\n",
       "      <td>False</td>\n",
       "      <td>False</td>\n",
       "      <td>0</td>\n",
       "      <td>1</td>\n",
       "      <td>True</td>\n",
       "      <td>False</td>\n",
       "      <td>False</td>\n",
       "      <td>2011</td>\n",
       "      <td>3</td>\n",
       "      <td>4</td>\n",
       "      <td>11.0</td>\n",
       "      <td>13.0</td>\n",
       "      <td>-2.0</td>\n",
       "      <td>56</td>\n",
       "      <td>11.0</td>\n",
       "    </tr>\n",
       "  </tbody>\n",
       "</table>\n",
       "</div>"
      ],
      "text/plain": [
       "   season-spring  season-summer  season-autumn  season-winter  holiday  \\\n",
       "0           True          False          False          False        0   \n",
       "1           True          False          False          False        0   \n",
       "2           True          False          False          False        0   \n",
       "3           True          False          False          False        0   \n",
       "4           True          False          False          False        0   \n",
       "\n",
       "   workingday  weather-good  weather-notbad  weather-bad  datetime-year  \\\n",
       "0           1          True           False        False           2011   \n",
       "1           1          True           False        False           2011   \n",
       "2           1          True           False        False           2011   \n",
       "3           1          True           False        False           2011   \n",
       "4           1          True           False        False           2011   \n",
       "\n",
       "   datetime-dayofweek(int)  datetime-hour  temp(int)  atemp(int)  \\\n",
       "0                        3              0       11.0        11.0   \n",
       "1                        3              1       11.0        14.0   \n",
       "2                        3              2       11.0        14.0   \n",
       "3                        3              3       11.0        13.0   \n",
       "4                        3              4       11.0        13.0   \n",
       "\n",
       "   temp(difference)  humidity  windspeed-encode  \n",
       "0               0.0        56              26.0  \n",
       "1              -3.0        56              14.0  \n",
       "2              -3.0        56              14.0  \n",
       "3              -2.0        56              11.0  \n",
       "4              -2.0        56              11.0  "
      ]
     },
     "execution_count": 108,
     "metadata": {},
     "output_type": "execute_result"
    }
   ],
   "source": [
    "X_test = test[feature_name]\n",
    "\n",
    "print(X_test.shape)\n",
    "X_test.head()"
   ]
  },
  {
   "cell_type": "code",
   "execution_count": 109,
   "metadata": {},
   "outputs": [
    {
     "name": "stdout",
     "output_type": "stream",
     "text": [
      "(10886,)\n"
     ]
    },
    {
     "data": {
      "text/plain": [
       "0    16\n",
       "1    40\n",
       "2    32\n",
       "3    13\n",
       "4     1\n",
       "Name: count, dtype: int64"
      ]
     },
     "execution_count": 109,
     "metadata": {},
     "output_type": "execute_result"
    }
   ],
   "source": [
    "y_train_count = train[\"count\"]\n",
    "\n",
    "print(y_train_count.shape)\n",
    "y_train_count.head()"
   ]
  },
  {
   "cell_type": "code",
   "execution_count": 110,
   "metadata": {},
   "outputs": [],
   "source": [
    "import numpy as np"
   ]
  },
  {
   "cell_type": "code",
   "execution_count": 111,
   "metadata": {},
   "outputs": [
    {
     "name": "stdout",
     "output_type": "stream",
     "text": [
      "(10886,)\n"
     ]
    },
    {
     "data": {
      "text/plain": [
       "0    2.833213\n",
       "1    3.713572\n",
       "2    3.496508\n",
       "3    2.639057\n",
       "4    0.693147\n",
       "Name: count, dtype: float64"
      ]
     },
     "execution_count": 111,
     "metadata": {},
     "output_type": "execute_result"
    }
   ],
   "source": [
    "y_train_log_count = np.log(y_train_count + 1)\n",
    "\n",
    "print(y_train_log_count.shape)\n",
    "y_train_log_count.head()"
   ]
  },
  {
   "cell_type": "code",
   "execution_count": 112,
   "metadata": {},
   "outputs": [
    {
     "name": "stdout",
     "output_type": "stream",
     "text": [
      "(10886,)\n"
     ]
    },
    {
     "data": {
      "text/plain": [
       "0    3\n",
       "1    8\n",
       "2    5\n",
       "3    3\n",
       "4    0\n",
       "Name: casual, dtype: int64"
      ]
     },
     "execution_count": 112,
     "metadata": {},
     "output_type": "execute_result"
    }
   ],
   "source": [
    "y_train_casual = train[\"casual\"]\n",
    "print(y_train_casual.shape)\n",
    "\n",
    "y_train_casual.head()"
   ]
  },
  {
   "cell_type": "code",
   "execution_count": 113,
   "metadata": {},
   "outputs": [
    {
     "name": "stdout",
     "output_type": "stream",
     "text": [
      "(10886,)\n"
     ]
    },
    {
     "data": {
      "text/plain": [
       "0    1.386294\n",
       "1    2.197225\n",
       "2    1.791759\n",
       "3    1.386294\n",
       "4    0.000000\n",
       "Name: casual, dtype: float64"
      ]
     },
     "execution_count": 113,
     "metadata": {},
     "output_type": "execute_result"
    }
   ],
   "source": [
    "y_train_log_casual = np.log(y_train_casual + 1)\n",
    "\n",
    "print(y_train_log_casual.shape)\n",
    "y_train_log_casual.head()"
   ]
  },
  {
   "cell_type": "code",
   "execution_count": 114,
   "metadata": {},
   "outputs": [
    {
     "name": "stdout",
     "output_type": "stream",
     "text": [
      "(10886,)\n"
     ]
    },
    {
     "data": {
      "text/plain": [
       "0    13\n",
       "1    32\n",
       "2    27\n",
       "3    10\n",
       "4     1\n",
       "Name: registered, dtype: int64"
      ]
     },
     "execution_count": 114,
     "metadata": {},
     "output_type": "execute_result"
    }
   ],
   "source": [
    "y_train_registered = train[\"registered\"]\n",
    "print(y_train_registered.shape)\n",
    "\n",
    "y_train_registered.head()"
   ]
  },
  {
   "cell_type": "code",
   "execution_count": 115,
   "metadata": {},
   "outputs": [
    {
     "name": "stdout",
     "output_type": "stream",
     "text": [
      "(10886,)\n"
     ]
    },
    {
     "data": {
      "text/plain": [
       "0    2.639057\n",
       "1    3.496508\n",
       "2    3.332205\n",
       "3    2.397895\n",
       "4    0.693147\n",
       "Name: registered, dtype: float64"
      ]
     },
     "execution_count": 115,
     "metadata": {},
     "output_type": "execute_result"
    }
   ],
   "source": [
    "y_train_log_registered = np.log(y_train_registered + 1)\n",
    "\n",
    "print(y_train_log_registered.shape)\n",
    "y_train_log_registered.head()"
   ]
  },
  {
   "cell_type": "markdown",
   "metadata": {},
   "source": [
    "## Use Random Forest"
   ]
  },
  {
   "cell_type": "code",
   "execution_count": 122,
   "metadata": {},
   "outputs": [
    {
     "data": {
      "text/plain": [
       "RandomForestRegressor(bootstrap=True, criterion='mse', max_depth=10,\n",
       "                      max_features='auto', max_leaf_nodes=None,\n",
       "                      min_impurity_decrease=0.0, min_impurity_split=None,\n",
       "                      min_samples_leaf=1, min_samples_split=2,\n",
       "                      min_weight_fraction_leaf=0.0, n_estimators=50, n_jobs=-1,\n",
       "                      oob_score=False, random_state=7, verbose=0,\n",
       "                      warm_start=False)"
      ]
     },
     "execution_count": 122,
     "metadata": {},
     "output_type": "execute_result"
    }
   ],
   "source": [
    "from sklearn.ensemble import RandomForestRegressor\n",
    "\n",
    "model = RandomForestRegressor(random_state = 7, max_depth = 10, n_estimators = 50, n_jobs = -1)   \n",
    "model"
   ]
  },
  {
   "cell_type": "markdown",
   "metadata": {},
   "source": [
    "## Hyperparameter Tuning"
   ]
  },
  {
   "cell_type": "markdown",
   "metadata": {},
   "source": [
    "### Random Search(Coarse)"
   ]
  },
  {
   "cell_type": "code",
   "execution_count": 123,
   "metadata": {},
   "outputs": [],
   "source": [
    "import numpy as np\n",
    "from sklearn.ensemble import RandomForestRegressor\n",
    "from sklearn.model_selection import cross_val_predict\n",
    "from sklearn.metrics import mean_squared_log_error"
   ]
  },
  {
   "cell_type": "code",
   "execution_count": 124,
   "metadata": {},
   "outputs": [
    {
     "name": "stdout",
     "output_type": "stream",
     "text": [
      " 0 n_estimators = 300, max_depth = 70, max_features = 0.108610, score = 0.66975\n",
      " 1 n_estimators = 300, max_depth = 32, max_features = 0.879482, score = 0.34931\n",
      " 2 n_estimators = 300, max_depth = 64, max_features = 0.210039, score = 0.51105\n",
      " 3 n_estimators = 300, max_depth = 84, max_features = 0.681853, score = 0.35158\n",
      " 4 n_estimators = 300, max_depth = 86, max_features = 0.893072, score = 0.34924\n",
      " 5 n_estimators = 300, max_depth = 96, max_features = 0.843562, score = 0.34932\n",
      " 6 n_estimators = 300, max_depth = 48, max_features = 0.894952, score = 0.34924\n",
      " 7 n_estimators = 300, max_depth = 73, max_features = 0.385377, score = 0.39373\n",
      " 8 n_estimators = 300, max_depth = 80, max_features = 0.698747, score = 0.35158\n",
      " 9 n_estimators = 300, max_depth = 93, max_features = 0.854932, score = 0.34932\n",
      "10 n_estimators = 300, max_depth = 97, max_features = 0.629559, score = 0.35503\n",
      "11 n_estimators = 300, max_depth = 99, max_features = 0.802699, score = 0.34923\n",
      "12 n_estimators = 300, max_depth = 20, max_features = 0.829959, score = 0.34937\n",
      "13 n_estimators = 300, max_depth = 93, max_features = 0.802903, score = 0.34923\n",
      "14 n_estimators = 300, max_depth = 23, max_features = 0.310893, score = 0.41963\n",
      "15 n_estimators = 300, max_depth = 92, max_features = 0.326485, score = 0.41932\n",
      "16 n_estimators = 300, max_depth =  4, max_features = 0.921531, score = 0.65405\n",
      "17 n_estimators = 300, max_depth = 46, max_features = 0.132444, score = 0.58343\n",
      "18 n_estimators = 300, max_depth = 35, max_features = 0.505284, score = 0.36727\n",
      "19 n_estimators = 300, max_depth = 26, max_features = 0.343658, score = 0.41933\n",
      "20 n_estimators = 300, max_depth = 22, max_features = 0.946858, score = 0.35033\n",
      "21 n_estimators = 300, max_depth = 40, max_features = 0.133185, score = 0.58343\n",
      "22 n_estimators = 300, max_depth = 80, max_features = 0.906463, score = 0.34924\n",
      "23 n_estimators = 300, max_depth = 35, max_features = 0.578131, score = 0.35839\n",
      "24 n_estimators = 300, max_depth = 63, max_features = 0.465333, score = 0.37704\n",
      "25 n_estimators = 300, max_depth = 78, max_features = 0.600877, score = 0.35503\n",
      "26 n_estimators = 300, max_depth = 56, max_features = 0.923419, score = 0.34924\n",
      "27 n_estimators = 300, max_depth = 41, max_features = 0.661348, score = 0.35158\n",
      "28 n_estimators = 300, max_depth = 14, max_features = 0.102671, score = 0.69725\n",
      "29 n_estimators = 300, max_depth = 82, max_features = 0.432315, score = 0.37704\n",
      "30 n_estimators = 300, max_depth = 29, max_features = 0.184559, score = 0.51074\n",
      "31 n_estimators = 300, max_depth = 23, max_features = 0.692009, score = 0.35174\n",
      "32 n_estimators = 300, max_depth =  8, max_features = 0.974057, score = 0.42856\n",
      "33 n_estimators = 300, max_depth = 63, max_features = 0.966806, score = 0.35026\n",
      "34 n_estimators = 300, max_depth = 67, max_features = 0.482863, score = 0.36727\n",
      "35 n_estimators = 300, max_depth = 15, max_features = 0.582017, score = 0.36134\n",
      "36 n_estimators = 300, max_depth = 22, max_features = 0.435724, score = 0.37748\n",
      "37 n_estimators = 300, max_depth = 92, max_features = 0.870830, score = 0.34932\n",
      "38 n_estimators = 300, max_depth = 95, max_features = 0.575845, score = 0.35840\n",
      "39 n_estimators = 300, max_depth = 19, max_features = 0.680101, score = 0.35187\n",
      "40 n_estimators = 300, max_depth = 89, max_features = 0.160183, score = 0.58343\n",
      "41 n_estimators = 300, max_depth = 46, max_features = 0.676215, score = 0.35158\n",
      "42 n_estimators = 300, max_depth = 14, max_features = 0.362424, score = 0.40260\n",
      "43 n_estimators = 300, max_depth = 46, max_features = 0.268483, score = 0.45853\n",
      "44 n_estimators = 300, max_depth =  3, max_features = 0.107266, score = 1.20828\n",
      "45 n_estimators = 300, max_depth = 46, max_features = 0.153900, score = 0.58343\n",
      "46 n_estimators = 300, max_depth = 57, max_features = 0.737034, score = 0.35045\n",
      "47 n_estimators = 300, max_depth = 19, max_features = 0.483737, score = 0.36717\n",
      "48 n_estimators = 300, max_depth = 81, max_features = 0.236851, score = 0.45853\n",
      "49 n_estimators = 300, max_depth = 74, max_features = 0.846789, score = 0.34932\n",
      "50 n_estimators = 300, max_depth = 96, max_features = 0.238727, score = 0.45853\n",
      "51 n_estimators = 300, max_depth =  9, max_features = 0.858902, score = 0.39588\n",
      "52 n_estimators = 300, max_depth = 35, max_features = 0.574770, score = 0.35839\n",
      "53 n_estimators = 300, max_depth =  7, max_features = 0.538039, score = 0.49645\n",
      "54 n_estimators = 300, max_depth = 46, max_features = 0.849728, score = 0.34932\n",
      "55 n_estimators = 300, max_depth = 34, max_features = 0.281484, score = 0.45850\n",
      "56 n_estimators = 300, max_depth = 20, max_features = 0.140174, score = 0.58420\n",
      "57 n_estimators = 300, max_depth = 42, max_features = 0.853807, score = 0.34932\n",
      "58 n_estimators = 300, max_depth = 50, max_features = 0.864064, score = 0.34932\n",
      "59 n_estimators = 300, max_depth = 55, max_features = 0.922025, score = 0.34924\n",
      "60 n_estimators = 300, max_depth = 81, max_features = 0.892092, score = 0.34924\n",
      "61 n_estimators = 300, max_depth = 72, max_features = 0.392256, score = 0.39373\n",
      "62 n_estimators = 300, max_depth = 39, max_features = 0.734201, score = 0.35045\n",
      "63 n_estimators = 300, max_depth = 15, max_features = 0.327134, score = 0.42696\n",
      "64 n_estimators = 300, max_depth = 77, max_features = 0.852763, score = 0.34932\n",
      "65 n_estimators = 300, max_depth = 56, max_features = 0.548624, score = 0.35840\n",
      "66 n_estimators = 300, max_depth = 78, max_features = 0.803512, score = 0.34923\n",
      "67 n_estimators = 300, max_depth = 87, max_features = 0.526707, score = 0.36727\n",
      "68 n_estimators = 300, max_depth = 40, max_features = 0.924911, score = 0.34924\n",
      "69 n_estimators = 300, max_depth = 33, max_features = 0.682725, score = 0.35158\n",
      "70 n_estimators = 300, max_depth = 12, max_features = 0.566180, score = 0.37364\n",
      "71 n_estimators = 300, max_depth = 52, max_features = 0.776330, score = 0.34923\n",
      "72 n_estimators = 300, max_depth = 28, max_features = 0.938134, score = 0.34946\n",
      "73 n_estimators = 300, max_depth = 96, max_features = 0.297633, score = 0.41932\n",
      "74 n_estimators = 300, max_depth = 61, max_features = 0.249929, score = 0.45853\n",
      "75 n_estimators = 300, max_depth = 30, max_features = 0.786663, score = 0.34933\n",
      "76 n_estimators = 300, max_depth = 57, max_features = 0.297379, score = 0.41932\n",
      "77 n_estimators = 300, max_depth = 37, max_features = 0.548552, score = 0.35840\n",
      "78 n_estimators = 300, max_depth = 51, max_features = 0.670073, score = 0.35158\n",
      "79 n_estimators = 300, max_depth = 83, max_features = 0.212324, score = 0.51105\n",
      "80 n_estimators = 300, max_depth = 68, max_features = 0.217996, score = 0.51105\n",
      "81 n_estimators = 300, max_depth = 91, max_features = 0.281325, score = 0.45853\n",
      "82 n_estimators = 300, max_depth = 53, max_features = 0.966238, score = 0.35026\n",
      "83 n_estimators = 300, max_depth = 21, max_features = 0.433524, score = 0.37697\n",
      "84 n_estimators = 300, max_depth = 64, max_features = 0.961280, score = 0.35026\n",
      "85 n_estimators = 300, max_depth = 88, max_features = 0.640183, score = 0.35503\n",
      "86 n_estimators = 300, max_depth = 51, max_features = 0.240646, score = 0.45853\n",
      "87 n_estimators = 300, max_depth = 84, max_features = 0.109623, score = 0.66975\n",
      "88 n_estimators = 300, max_depth = 52, max_features = 0.515104, score = 0.36727\n",
      "89 n_estimators = 300, max_depth = 51, max_features = 0.886849, score = 0.34924\n",
      "90 n_estimators = 300, max_depth = 75, max_features = 0.881562, score = 0.34932\n",
      "91 n_estimators = 300, max_depth = 73, max_features = 0.308698, score = 0.41932\n",
      "92 n_estimators = 300, max_depth = 81, max_features = 0.928553, score = 0.34924\n",
      "93 n_estimators = 300, max_depth = 36, max_features = 0.513561, score = 0.36728\n",
      "94 n_estimators = 300, max_depth = 99, max_features = 0.467146, score = 0.37704\n",
      "95 n_estimators = 300, max_depth = 15, max_features = 0.239458, score = 0.46858\n",
      "96 n_estimators = 300, max_depth = 38, max_features = 0.108601, score = 0.66975\n",
      "97 n_estimators = 300, max_depth = 25, max_features = 0.763027, score = 0.35031\n",
      "98 n_estimators = 300, max_depth = 23, max_features = 0.958721, score = 0.35053\n",
      "99 n_estimators = 300, max_depth = 27, max_features = 0.478888, score = 0.36709\n"
     ]
    },
    {
     "ename": "NameError",
     "evalue": "name 'coarse_hyperparameters' is not defined",
     "output_type": "error",
     "traceback": [
      "\u001b[0;31m---------------------------------------------------------------------------\u001b[0m",
      "\u001b[0;31mNameError\u001b[0m                                 Traceback (most recent call last)",
      "\u001b[0;32m<ipython-input-124-7d49688ad1ad>\u001b[0m in \u001b[0;36m<module>\u001b[0;34m\u001b[0m\n\u001b[1;32m     38\u001b[0m \u001b[0mcoarse_hyperparameters_list\u001b[0m \u001b[0;34m=\u001b[0m \u001b[0mpd\u001b[0m\u001b[0;34m.\u001b[0m\u001b[0mDataFrame\u001b[0m\u001b[0;34m.\u001b[0m\u001b[0mfrom_dict\u001b[0m\u001b[0;34m(\u001b[0m\u001b[0mcoarse_hyperparameters_list\u001b[0m\u001b[0;34m)\u001b[0m\u001b[0;34m\u001b[0m\u001b[0;34m\u001b[0m\u001b[0m\n\u001b[1;32m     39\u001b[0m \u001b[0;34m\u001b[0m\u001b[0m\n\u001b[0;32m---> 40\u001b[0;31m \u001b[0mcoarse_hyperparameters_list\u001b[0m \u001b[0;34m=\u001b[0m \u001b[0mcoarse_hyperparameters\u001b[0m\u001b[0;34m.\u001b[0m\u001b[0mlist\u001b[0m\u001b[0;34m.\u001b[0m\u001b[0msort_values\u001b[0m\u001b[0;34m(\u001b[0m\u001b[0mby\u001b[0m\u001b[0;34m=\u001b[0m\u001b[0;34m\"score\"\u001b[0m\u001b[0;34m)\u001b[0m\u001b[0;34m\u001b[0m\u001b[0;34m\u001b[0m\u001b[0m\n\u001b[0m\u001b[1;32m     41\u001b[0m \u001b[0;34m\u001b[0m\u001b[0m\n\u001b[1;32m     42\u001b[0m \u001b[0mprint\u001b[0m\u001b[0;34m(\u001b[0m\u001b[0mcoarse_hyperparameters_list\u001b[0m\u001b[0;34m.\u001b[0m\u001b[0mshape\u001b[0m\u001b[0;34m)\u001b[0m\u001b[0;34m\u001b[0m\u001b[0;34m\u001b[0m\u001b[0m\n",
      "\u001b[0;31mNameError\u001b[0m: name 'coarse_hyperparameters' is not defined"
     ]
    }
   ],
   "source": [
    "n_estimators = 300\n",
    "num_loop = 100\n",
    "coarse_hyperparameters_list = []\n",
    "\n",
    "for loop in range(num_loop):\n",
    "    max_depth = np.random.randint(low = 2, high = 100)\n",
    "    max_features = np.random.uniform(low = 0.1, high = 1.0)\n",
    "    model = RandomForestRegressor(random_state = 7,\n",
    "                                  n_estimators = n_estimators,\n",
    "                                  max_depth = max_depth,\n",
    "                                  max_features = max_features,\n",
    "                                  n_jobs = -1)\n",
    "    y_predict_log_count = cross_val_predict(model, X_train, y_train_log_count, cv = 20)\n",
    "    y_predict_log_casual = cross_val_predict(model, X_train, y_train_log_casual, cv = 20)\n",
    "    y_predict_log_registered = cross_val_predict(model, X_train, y_train_log_registered, cv = 20)\n",
    "    \n",
    "    y_predict_count = np.exp(y_predict_log_count) - 1\n",
    "    y_predict_casual = np.exp(y_predict_log_casual) - 1\n",
    "    y_predict_registered = np.exp(y_predict_log_registered) - 1\n",
    "    \n",
    "    y_predict = np.sqrt((y_predict_casual + y_predict_registered) * y_predict_count)\n",
    "    \n",
    "    score = mean_squared_log_error(y_train_count, y_predict)\n",
    "    score = np.sqrt(score)\n",
    "    \n",
    "    hyperparameters = {\n",
    "        'loop' : loop,\n",
    "        'score' : score,\n",
    "        'n_estimators' : n_estimators,\n",
    "        'max_depth' : max_depth,\n",
    "        'max_features' : max_features\n",
    "    }\n",
    "    \n",
    "    coarse_hyperparameters_list.append(hyperparameters)\n",
    "    \n",
    "    print(f\"{loop:2} n_estimators = {n_estimators}, max_depth = {max_depth:2}, max_features = {max_features:.6f}, score = {score:.5f}\")\n",
    "\n",
    "coarse_hyperparameters_list = pd.DataFrame.from_dict(coarse_hyperparameters_list)\n",
    "\n",
    "coarse_hyperparameters_list = coarse_hyperparameters_list.sort_values(by=\"score\")\n",
    "\n",
    "print(coarse_hyperparameters_list.shape)\n",
    "\n",
    "coarse_hyperparameters_list.head(10)  \n",
    "                                  "
   ]
  },
  {
   "cell_type": "code",
   "execution_count": 126,
   "metadata": {},
   "outputs": [
    {
     "name": "stdout",
     "output_type": "stream",
     "text": [
      "(100, 5)\n"
     ]
    },
    {
     "data": {
      "text/html": [
       "<div>\n",
       "<style scoped>\n",
       "    .dataframe tbody tr th:only-of-type {\n",
       "        vertical-align: middle;\n",
       "    }\n",
       "\n",
       "    .dataframe tbody tr th {\n",
       "        vertical-align: top;\n",
       "    }\n",
       "\n",
       "    .dataframe thead th {\n",
       "        text-align: right;\n",
       "    }\n",
       "</style>\n",
       "<table border=\"1\" class=\"dataframe\">\n",
       "  <thead>\n",
       "    <tr style=\"text-align: right;\">\n",
       "      <th></th>\n",
       "      <th>loop</th>\n",
       "      <th>max_depth</th>\n",
       "      <th>max_features</th>\n",
       "      <th>n_estimators</th>\n",
       "      <th>score</th>\n",
       "    </tr>\n",
       "  </thead>\n",
       "  <tbody>\n",
       "    <tr>\n",
       "      <th>71</th>\n",
       "      <td>71</td>\n",
       "      <td>52</td>\n",
       "      <td>0.776330</td>\n",
       "      <td>300</td>\n",
       "      <td>0.349228</td>\n",
       "    </tr>\n",
       "    <tr>\n",
       "      <th>13</th>\n",
       "      <td>13</td>\n",
       "      <td>93</td>\n",
       "      <td>0.802903</td>\n",
       "      <td>300</td>\n",
       "      <td>0.349228</td>\n",
       "    </tr>\n",
       "    <tr>\n",
       "      <th>66</th>\n",
       "      <td>66</td>\n",
       "      <td>78</td>\n",
       "      <td>0.803512</td>\n",
       "      <td>300</td>\n",
       "      <td>0.349228</td>\n",
       "    </tr>\n",
       "    <tr>\n",
       "      <th>11</th>\n",
       "      <td>11</td>\n",
       "      <td>99</td>\n",
       "      <td>0.802699</td>\n",
       "      <td>300</td>\n",
       "      <td>0.349228</td>\n",
       "    </tr>\n",
       "    <tr>\n",
       "      <th>68</th>\n",
       "      <td>68</td>\n",
       "      <td>40</td>\n",
       "      <td>0.924911</td>\n",
       "      <td>300</td>\n",
       "      <td>0.349238</td>\n",
       "    </tr>\n",
       "    <tr>\n",
       "      <th>26</th>\n",
       "      <td>26</td>\n",
       "      <td>56</td>\n",
       "      <td>0.923419</td>\n",
       "      <td>300</td>\n",
       "      <td>0.349238</td>\n",
       "    </tr>\n",
       "    <tr>\n",
       "      <th>4</th>\n",
       "      <td>4</td>\n",
       "      <td>86</td>\n",
       "      <td>0.893072</td>\n",
       "      <td>300</td>\n",
       "      <td>0.349238</td>\n",
       "    </tr>\n",
       "    <tr>\n",
       "      <th>6</th>\n",
       "      <td>6</td>\n",
       "      <td>48</td>\n",
       "      <td>0.894952</td>\n",
       "      <td>300</td>\n",
       "      <td>0.349238</td>\n",
       "    </tr>\n",
       "    <tr>\n",
       "      <th>92</th>\n",
       "      <td>92</td>\n",
       "      <td>81</td>\n",
       "      <td>0.928553</td>\n",
       "      <td>300</td>\n",
       "      <td>0.349238</td>\n",
       "    </tr>\n",
       "    <tr>\n",
       "      <th>60</th>\n",
       "      <td>60</td>\n",
       "      <td>81</td>\n",
       "      <td>0.892092</td>\n",
       "      <td>300</td>\n",
       "      <td>0.349238</td>\n",
       "    </tr>\n",
       "  </tbody>\n",
       "</table>\n",
       "</div>"
      ],
      "text/plain": [
       "    loop  max_depth  max_features  n_estimators     score\n",
       "71    71         52      0.776330           300  0.349228\n",
       "13    13         93      0.802903           300  0.349228\n",
       "66    66         78      0.803512           300  0.349228\n",
       "11    11         99      0.802699           300  0.349228\n",
       "68    68         40      0.924911           300  0.349238\n",
       "26    26         56      0.923419           300  0.349238\n",
       "4      4         86      0.893072           300  0.349238\n",
       "6      6         48      0.894952           300  0.349238\n",
       "92    92         81      0.928553           300  0.349238\n",
       "60    60         81      0.892092           300  0.349238"
      ]
     },
     "execution_count": 126,
     "metadata": {},
     "output_type": "execute_result"
    }
   ],
   "source": [
    "coarse_hyperparameters_list = pd.DataFrame.from_dict(coarse_hyperparameters_list)\n",
    "\n",
    "coarse_hyperparameters_list = coarse_hyperparameters_list.sort_values(by=\"score\")\n",
    "\n",
    "print(coarse_hyperparameters_list.shape)\n",
    "\n",
    "coarse_hyperparameters_list.head(10)  "
   ]
  },
  {
   "cell_type": "markdown",
   "metadata": {},
   "source": [
    "### Random Search(Fine)"
   ]
  },
  {
   "cell_type": "code",
   "execution_count": 127,
   "metadata": {},
   "outputs": [
    {
     "name": "stdout",
     "output_type": "stream",
     "text": [
      " 0 n_estimators = 300, max_depth = 79, max_features = 0.861969, score = 0.34932\n",
      " 1 n_estimators = 300, max_depth = 47, max_features = 0.903417, score = 0.34924\n",
      " 2 n_estimators = 300, max_depth = 98, max_features = 0.813366, score = 0.34923\n",
      " 3 n_estimators = 300, max_depth = 61, max_features = 0.886003, score = 0.34924\n",
      " 4 n_estimators = 300, max_depth = 81, max_features = 0.818242, score = 0.34923\n",
      " 5 n_estimators = 300, max_depth = 83, max_features = 0.779339, score = 0.34923\n",
      " 6 n_estimators = 300, max_depth = 64, max_features = 0.874173, score = 0.34932\n",
      " 7 n_estimators = 300, max_depth = 78, max_features = 0.878015, score = 0.34932\n",
      " 8 n_estimators = 300, max_depth = 80, max_features = 0.805627, score = 0.34923\n",
      " 9 n_estimators = 300, max_depth = 80, max_features = 0.855289, score = 0.34932\n",
      "10 n_estimators = 300, max_depth = 97, max_features = 0.874404, score = 0.34932\n",
      "11 n_estimators = 300, max_depth = 73, max_features = 0.799258, score = 0.34923\n",
      "12 n_estimators = 300, max_depth = 91, max_features = 0.875754, score = 0.34932\n",
      "13 n_estimators = 300, max_depth = 83, max_features = 0.818860, score = 0.34923\n",
      "14 n_estimators = 300, max_depth = 96, max_features = 0.825988, score = 0.34932\n",
      "15 n_estimators = 300, max_depth = 60, max_features = 0.844064, score = 0.34932\n",
      "16 n_estimators = 300, max_depth = 75, max_features = 0.820713, score = 0.34923\n",
      "17 n_estimators = 300, max_depth = 60, max_features = 0.830731, score = 0.34932\n",
      "18 n_estimators = 300, max_depth = 51, max_features = 0.828296, score = 0.34932\n",
      "19 n_estimators = 300, max_depth = 75, max_features = 0.800902, score = 0.34923\n",
      "20 n_estimators = 300, max_depth = 53, max_features = 0.866347, score = 0.34932\n",
      "21 n_estimators = 300, max_depth = 53, max_features = 0.859960, score = 0.34932\n",
      "22 n_estimators = 300, max_depth = 78, max_features = 0.771900, score = 0.34923\n",
      "23 n_estimators = 300, max_depth = 79, max_features = 0.817733, score = 0.34923\n",
      "24 n_estimators = 300, max_depth = 52, max_features = 0.899525, score = 0.34924\n",
      "25 n_estimators = 300, max_depth = 40, max_features = 0.819197, score = 0.34923\n",
      "26 n_estimators = 300, max_depth = 48, max_features = 0.904659, score = 0.34924\n",
      "27 n_estimators = 300, max_depth = 50, max_features = 0.922958, score = 0.34924\n",
      "28 n_estimators = 300, max_depth = 54, max_features = 0.874812, score = 0.34932\n",
      "29 n_estimators = 300, max_depth = 70, max_features = 0.906659, score = 0.34924\n",
      "30 n_estimators = 300, max_depth = 56, max_features = 0.866722, score = 0.34932\n",
      "31 n_estimators = 300, max_depth = 75, max_features = 0.783821, score = 0.34923\n",
      "32 n_estimators = 300, max_depth = 52, max_features = 0.844456, score = 0.34932\n",
      "33 n_estimators = 300, max_depth = 46, max_features = 0.891974, score = 0.34924\n",
      "34 n_estimators = 300, max_depth = 51, max_features = 0.886755, score = 0.34924\n",
      "35 n_estimators = 300, max_depth = 92, max_features = 0.869333, score = 0.34932\n",
      "36 n_estimators = 300, max_depth = 81, max_features = 0.883651, score = 0.34924\n",
      "37 n_estimators = 300, max_depth = 78, max_features = 0.883808, score = 0.34924\n",
      "38 n_estimators = 300, max_depth = 82, max_features = 0.827106, score = 0.34932\n",
      "39 n_estimators = 300, max_depth = 55, max_features = 0.847238, score = 0.34932\n",
      "40 n_estimators = 300, max_depth = 70, max_features = 0.827415, score = 0.34932\n",
      "41 n_estimators = 300, max_depth = 83, max_features = 0.838571, score = 0.34932\n",
      "42 n_estimators = 300, max_depth = 43, max_features = 0.784335, score = 0.34923\n",
      "43 n_estimators = 300, max_depth = 92, max_features = 0.848666, score = 0.34932\n",
      "44 n_estimators = 300, max_depth = 90, max_features = 0.925258, score = 0.34924\n",
      "45 n_estimators = 300, max_depth = 82, max_features = 0.778997, score = 0.34923\n",
      "46 n_estimators = 300, max_depth = 80, max_features = 0.901483, score = 0.34924\n",
      "47 n_estimators = 300, max_depth = 53, max_features = 0.794985, score = 0.34923\n",
      "48 n_estimators = 300, max_depth = 95, max_features = 0.796969, score = 0.34923\n",
      "49 n_estimators = 300, max_depth = 65, max_features = 0.875545, score = 0.34932\n",
      "50 n_estimators = 300, max_depth = 70, max_features = 0.894196, score = 0.34924\n",
      "51 n_estimators = 300, max_depth = 57, max_features = 0.875514, score = 0.34932\n",
      "52 n_estimators = 300, max_depth = 83, max_features = 0.771658, score = 0.34923\n",
      "53 n_estimators = 300, max_depth = 87, max_features = 0.858362, score = 0.34932\n",
      "54 n_estimators = 300, max_depth = 75, max_features = 0.827941, score = 0.34932\n",
      "55 n_estimators = 300, max_depth = 77, max_features = 0.925615, score = 0.34924\n",
      "56 n_estimators = 300, max_depth = 84, max_features = 0.873760, score = 0.34932\n",
      "57 n_estimators = 300, max_depth = 60, max_features = 0.860932, score = 0.34932\n",
      "58 n_estimators = 300, max_depth = 82, max_features = 0.882057, score = 0.34932\n",
      "59 n_estimators = 300, max_depth = 83, max_features = 0.902272, score = 0.34924\n",
      "60 n_estimators = 300, max_depth = 84, max_features = 0.808295, score = 0.34923\n",
      "61 n_estimators = 300, max_depth = 87, max_features = 0.822715, score = 0.34923\n",
      "62 n_estimators = 300, max_depth = 71, max_features = 0.802239, score = 0.34923\n",
      "63 n_estimators = 300, max_depth = 54, max_features = 0.796876, score = 0.34923\n",
      "64 n_estimators = 300, max_depth = 49, max_features = 0.776038, score = 0.34923\n",
      "65 n_estimators = 300, max_depth = 52, max_features = 0.919574, score = 0.34924\n",
      "66 n_estimators = 300, max_depth = 43, max_features = 0.798655, score = 0.34923\n",
      "67 n_estimators = 300, max_depth = 47, max_features = 0.810945, score = 0.34923\n",
      "68 n_estimators = 300, max_depth = 67, max_features = 0.826721, score = 0.34932\n",
      "69 n_estimators = 300, max_depth = 75, max_features = 0.857271, score = 0.34932\n",
      "70 n_estimators = 300, max_depth = 74, max_features = 0.800982, score = 0.34923\n",
      "71 n_estimators = 300, max_depth = 77, max_features = 0.841505, score = 0.34932\n",
      "72 n_estimators = 300, max_depth = 89, max_features = 0.854569, score = 0.34932\n",
      "73 n_estimators = 300, max_depth = 49, max_features = 0.816545, score = 0.34923\n",
      "74 n_estimators = 300, max_depth = 79, max_features = 0.881589, score = 0.34932\n",
      "75 n_estimators = 300, max_depth = 43, max_features = 0.882061, score = 0.34932\n",
      "76 n_estimators = 300, max_depth = 97, max_features = 0.834747, score = 0.34932\n",
      "77 n_estimators = 300, max_depth = 63, max_features = 0.929188, score = 0.34924\n",
      "78 n_estimators = 300, max_depth = 42, max_features = 0.909371, score = 0.34924\n",
      "79 n_estimators = 300, max_depth = 59, max_features = 0.894493, score = 0.34924\n",
      "80 n_estimators = 300, max_depth = 48, max_features = 0.825716, score = 0.34932\n",
      "81 n_estimators = 300, max_depth = 77, max_features = 0.795875, score = 0.34923\n",
      "82 n_estimators = 300, max_depth = 61, max_features = 0.843413, score = 0.34932\n",
      "83 n_estimators = 300, max_depth = 92, max_features = 0.918765, score = 0.34924\n",
      "84 n_estimators = 300, max_depth = 78, max_features = 0.795084, score = 0.34923\n",
      "85 n_estimators = 300, max_depth = 56, max_features = 0.861760, score = 0.34932\n",
      "86 n_estimators = 300, max_depth = 93, max_features = 0.829214, score = 0.34932\n",
      "87 n_estimators = 300, max_depth = 86, max_features = 0.891978, score = 0.34924\n",
      "88 n_estimators = 300, max_depth = 67, max_features = 0.837049, score = 0.34932\n",
      "89 n_estimators = 300, max_depth = 85, max_features = 0.852493, score = 0.34932\n",
      "90 n_estimators = 300, max_depth = 91, max_features = 0.848097, score = 0.34932\n",
      "91 n_estimators = 300, max_depth = 58, max_features = 0.912451, score = 0.34924\n",
      "92 n_estimators = 300, max_depth = 84, max_features = 0.865495, score = 0.34932\n",
      "93 n_estimators = 300, max_depth = 86, max_features = 0.874883, score = 0.34932\n",
      "94 n_estimators = 300, max_depth = 69, max_features = 0.834542, score = 0.34932\n",
      "95 n_estimators = 300, max_depth = 51, max_features = 0.916174, score = 0.34924\n",
      "96 n_estimators = 300, max_depth = 86, max_features = 0.900930, score = 0.34924\n",
      "97 n_estimators = 300, max_depth = 98, max_features = 0.853496, score = 0.34932\n",
      "98 n_estimators = 300, max_depth = 85, max_features = 0.816876, score = 0.34923\n",
      "99 n_estimators = 300, max_depth = 51, max_features = 0.926890, score = 0.34924\n",
      "(100, 5)\n"
     ]
    },
    {
     "data": {
      "text/html": [
       "<div>\n",
       "<style scoped>\n",
       "    .dataframe tbody tr th:only-of-type {\n",
       "        vertical-align: middle;\n",
       "    }\n",
       "\n",
       "    .dataframe tbody tr th {\n",
       "        vertical-align: top;\n",
       "    }\n",
       "\n",
       "    .dataframe thead th {\n",
       "        text-align: right;\n",
       "    }\n",
       "</style>\n",
       "<table border=\"1\" class=\"dataframe\">\n",
       "  <thead>\n",
       "    <tr style=\"text-align: right;\">\n",
       "      <th></th>\n",
       "      <th>loop</th>\n",
       "      <th>max_depth</th>\n",
       "      <th>max_features</th>\n",
       "      <th>n_estimators</th>\n",
       "      <th>score</th>\n",
       "    </tr>\n",
       "  </thead>\n",
       "  <tbody>\n",
       "    <tr>\n",
       "      <th>71</th>\n",
       "      <td>71</td>\n",
       "      <td>52</td>\n",
       "      <td>0.776330</td>\n",
       "      <td>300</td>\n",
       "      <td>0.349228</td>\n",
       "    </tr>\n",
       "    <tr>\n",
       "      <th>13</th>\n",
       "      <td>13</td>\n",
       "      <td>93</td>\n",
       "      <td>0.802903</td>\n",
       "      <td>300</td>\n",
       "      <td>0.349228</td>\n",
       "    </tr>\n",
       "    <tr>\n",
       "      <th>66</th>\n",
       "      <td>66</td>\n",
       "      <td>78</td>\n",
       "      <td>0.803512</td>\n",
       "      <td>300</td>\n",
       "      <td>0.349228</td>\n",
       "    </tr>\n",
       "    <tr>\n",
       "      <th>11</th>\n",
       "      <td>11</td>\n",
       "      <td>99</td>\n",
       "      <td>0.802699</td>\n",
       "      <td>300</td>\n",
       "      <td>0.349228</td>\n",
       "    </tr>\n",
       "    <tr>\n",
       "      <th>89</th>\n",
       "      <td>89</td>\n",
       "      <td>51</td>\n",
       "      <td>0.886849</td>\n",
       "      <td>300</td>\n",
       "      <td>0.349238</td>\n",
       "    </tr>\n",
       "    <tr>\n",
       "      <th>22</th>\n",
       "      <td>22</td>\n",
       "      <td>80</td>\n",
       "      <td>0.906463</td>\n",
       "      <td>300</td>\n",
       "      <td>0.349238</td>\n",
       "    </tr>\n",
       "    <tr>\n",
       "      <th>60</th>\n",
       "      <td>60</td>\n",
       "      <td>81</td>\n",
       "      <td>0.892092</td>\n",
       "      <td>300</td>\n",
       "      <td>0.349238</td>\n",
       "    </tr>\n",
       "    <tr>\n",
       "      <th>92</th>\n",
       "      <td>92</td>\n",
       "      <td>81</td>\n",
       "      <td>0.928553</td>\n",
       "      <td>300</td>\n",
       "      <td>0.349238</td>\n",
       "    </tr>\n",
       "    <tr>\n",
       "      <th>59</th>\n",
       "      <td>59</td>\n",
       "      <td>55</td>\n",
       "      <td>0.922025</td>\n",
       "      <td>300</td>\n",
       "      <td>0.349238</td>\n",
       "    </tr>\n",
       "    <tr>\n",
       "      <th>4</th>\n",
       "      <td>4</td>\n",
       "      <td>86</td>\n",
       "      <td>0.893072</td>\n",
       "      <td>300</td>\n",
       "      <td>0.349238</td>\n",
       "    </tr>\n",
       "  </tbody>\n",
       "</table>\n",
       "</div>"
      ],
      "text/plain": [
       "    loop  max_depth  max_features  n_estimators     score\n",
       "71    71         52      0.776330           300  0.349228\n",
       "13    13         93      0.802903           300  0.349228\n",
       "66    66         78      0.803512           300  0.349228\n",
       "11    11         99      0.802699           300  0.349228\n",
       "89    89         51      0.886849           300  0.349238\n",
       "22    22         80      0.906463           300  0.349238\n",
       "60    60         81      0.892092           300  0.349238\n",
       "92    92         81      0.928553           300  0.349238\n",
       "59    59         55      0.922025           300  0.349238\n",
       "4      4         86      0.893072           300  0.349238"
      ]
     },
     "execution_count": 127,
     "metadata": {},
     "output_type": "execute_result"
    }
   ],
   "source": [
    "n_estimators = 300\n",
    "num_loop = 100\n",
    "fine_hyperparameters_list = []\n",
    "\n",
    "for loop in range(num_loop):\n",
    "    # coarse 에서 제일 상위 5 ~ 10개 값을 입력\n",
    "    max_depth = np.random.randint(low = 40, high = 99)\n",
    "    max_features = np.random.uniform(low = 0.77, high = 0.93)\n",
    "    model = RandomForestRegressor(random_state = 7,\n",
    "                                  n_estimators = n_estimators,\n",
    "                                  max_depth = max_depth,\n",
    "                                  max_features = max_features,\n",
    "                                  n_jobs = -1)\n",
    "    y_predict_log_count = cross_val_predict(model, X_train, y_train_log_count, cv = 20)\n",
    "    y_predict_log_casual = cross_val_predict(model, X_train, y_train_log_casual, cv = 20)\n",
    "    y_predict_log_registered = cross_val_predict(model, X_train, y_train_log_registered, cv = 20)\n",
    "    \n",
    "    y_predict_count = np.exp(y_predict_log_count) - 1\n",
    "    y_predict_casual = np.exp(y_predict_log_casual) - 1\n",
    "    y_predict_registered = np.exp(y_predict_log_registered) - 1\n",
    "    \n",
    "    y_predict = np.sqrt((y_predict_casual + y_predict_registered) * y_predict_count)\n",
    "    \n",
    "    score = mean_squared_log_error(y_train_count, y_predict)\n",
    "    score = np.sqrt(score)\n",
    "    \n",
    "    hyperparameters = {\n",
    "        'loop' : loop,\n",
    "        'score' : score,\n",
    "        'n_estimators' : n_estimators,\n",
    "        'max_depth' : max_depth,\n",
    "        'max_features' : max_features\n",
    "    }\n",
    "    \n",
    "    fine_hyperparameters_list.append(hyperparameters)\n",
    "    \n",
    "    print(f\"{loop:2} n_estimators = {n_estimators}, max_depth = {max_depth:2}, max_features = {max_features:.6f}, score = {score:.5f}\")\n",
    "\n",
    "fine_hyperparameters_list = pd.DataFrame.from_dict(coarse_hyperparameters_list)\n",
    "\n",
    "fine_hyperparameters_list = coarse_hyperparameters_list.sort_values(by=\"score\")\n",
    "\n",
    "print(fine_hyperparameters_list.shape)\n",
    "\n",
    "fine_hyperparameters_list.head(10) "
   ]
  },
  {
   "cell_type": "code",
   "execution_count": 130,
   "metadata": {},
   "outputs": [
    {
     "name": "stdout",
     "output_type": "stream",
     "text": [
      "max_depth(best) = 52.0, max_features(best) = 0.776330\n"
     ]
    }
   ],
   "source": [
    "best_hyperparameters = fine_hyperparameters_list.iloc[0]\n",
    "\n",
    "best_max_depth = best_hyperparameters[\"max_depth\"]\n",
    "best_max_features = best_hyperparameters[\"max_features\"]\n",
    "\n",
    "print(f\"max_depth(best) = {best_max_depth}, max_features(best) = {best_max_features:.6f}\")"
   ]
  },
  {
   "cell_type": "markdown",
   "metadata": {},
   "source": [
    "## Predict"
   ]
  },
  {
   "cell_type": "code",
   "execution_count": 131,
   "metadata": {},
   "outputs": [
    {
     "data": {
      "text/plain": [
       "RandomForestRegressor(bootstrap=True, criterion='mse', max_depth=52,\n",
       "                      max_features=0.77633, max_leaf_nodes=None,\n",
       "                      min_impurity_decrease=0.0, min_impurity_split=None,\n",
       "                      min_samples_leaf=1, min_samples_split=2,\n",
       "                      min_weight_fraction_leaf=0.0, n_estimators=3000,\n",
       "                      n_jobs=-1, oob_score=False, random_state=7, verbose=0,\n",
       "                      warm_start=False)"
      ]
     },
     "execution_count": 131,
     "metadata": {},
     "output_type": "execute_result"
    }
   ],
   "source": [
    "best_n_estimators = 3000\n",
    "best_max_depth = 52\n",
    "best_max_features = 0.776330\n",
    "\n",
    "model = RandomForestRegressor(n_estimators = best_n_estimators,\n",
    "                              max_depth = best_max_depth,\n",
    "                              max_features = best_max_features,\n",
    "                              random_state = 7,\n",
    "                              n_jobs = -1)\n",
    "model"
   ]
  },
  {
   "cell_type": "code",
   "execution_count": 132,
   "metadata": {},
   "outputs": [
    {
     "name": "stdout",
     "output_type": "stream",
     "text": [
      "(6493,)\n"
     ]
    },
    {
     "data": {
      "text/plain": [
       "array([ 11.16099277,   5.26795482,   2.90176129, ..., 105.68106997,\n",
       "        97.84047302,  47.32287299])"
      ]
     },
     "execution_count": 132,
     "metadata": {},
     "output_type": "execute_result"
    }
   ],
   "source": [
    "model.fit(X_train, y_train_log_count)\n",
    "log_count_predictions = model.predict(X_test)\n",
    "\n",
    "model.fit(X_train, y_train_log_casual)\n",
    "log_casual_predictions = model.predict(X_test)\n",
    "\n",
    "model.fit(X_train, y_train_log_registered)\n",
    "log_registered_predictions = model.predict(X_test)\n",
    "\n",
    "count_predictions = np.exp(log_count_predictions) - 1\n",
    "casual_predictions = np.exp(log_casual_predictions) - 1\n",
    "registered_predictions = np.exp(log_registered_predictions) - 1\n",
    "\n",
    "predictions = np.sqrt((casual_predictions + registered_predictions) * count_predictions)\n",
    "\n",
    "print(predictions.shape)\n",
    "\n",
    "predictions"
   ]
  },
  {
   "cell_type": "markdown",
   "metadata": {},
   "source": [
    "## Submit"
   ]
  },
  {
   "cell_type": "code",
   "execution_count": 133,
   "metadata": {},
   "outputs": [
    {
     "name": "stdout",
     "output_type": "stream",
     "text": [
      "(6493, 2)\n"
     ]
    },
    {
     "data": {
      "text/html": [
       "<div>\n",
       "<style scoped>\n",
       "    .dataframe tbody tr th:only-of-type {\n",
       "        vertical-align: middle;\n",
       "    }\n",
       "\n",
       "    .dataframe tbody tr th {\n",
       "        vertical-align: top;\n",
       "    }\n",
       "\n",
       "    .dataframe thead th {\n",
       "        text-align: right;\n",
       "    }\n",
       "</style>\n",
       "<table border=\"1\" class=\"dataframe\">\n",
       "  <thead>\n",
       "    <tr style=\"text-align: right;\">\n",
       "      <th></th>\n",
       "      <th>datetime</th>\n",
       "      <th>count</th>\n",
       "    </tr>\n",
       "  </thead>\n",
       "  <tbody>\n",
       "    <tr>\n",
       "      <th>0</th>\n",
       "      <td>2011-01-20 00:00:00</td>\n",
       "      <td>11.160993</td>\n",
       "    </tr>\n",
       "    <tr>\n",
       "      <th>1</th>\n",
       "      <td>2011-01-20 01:00:00</td>\n",
       "      <td>5.267955</td>\n",
       "    </tr>\n",
       "    <tr>\n",
       "      <th>2</th>\n",
       "      <td>2011-01-20 02:00:00</td>\n",
       "      <td>2.901761</td>\n",
       "    </tr>\n",
       "    <tr>\n",
       "      <th>3</th>\n",
       "      <td>2011-01-20 03:00:00</td>\n",
       "      <td>2.538390</td>\n",
       "    </tr>\n",
       "    <tr>\n",
       "      <th>4</th>\n",
       "      <td>2011-01-20 04:00:00</td>\n",
       "      <td>2.258632</td>\n",
       "    </tr>\n",
       "  </tbody>\n",
       "</table>\n",
       "</div>"
      ],
      "text/plain": [
       "              datetime      count\n",
       "0  2011-01-20 00:00:00  11.160993\n",
       "1  2011-01-20 01:00:00   5.267955\n",
       "2  2011-01-20 02:00:00   2.901761\n",
       "3  2011-01-20 03:00:00   2.538390\n",
       "4  2011-01-20 04:00:00   2.258632"
      ]
     },
     "execution_count": 133,
     "metadata": {},
     "output_type": "execute_result"
    }
   ],
   "source": [
    "submit = pd.read_csv(\"data/sampleSubmission.csv\")\n",
    "\n",
    "submit[\"count\"] = predictions\n",
    "\n",
    "print(submit.shape)\n",
    "submit.head()"
   ]
  },
  {
   "cell_type": "code",
   "execution_count": 134,
   "metadata": {},
   "outputs": [],
   "source": [
    "submit.to_csv(\"bike_sharing_demand.csv\", index = False)"
   ]
  },
  {
   "cell_type": "code",
   "execution_count": null,
   "metadata": {},
   "outputs": [],
   "source": []
  },
  {
   "cell_type": "code",
   "execution_count": null,
   "metadata": {},
   "outputs": [],
   "source": []
  }
 ],
 "metadata": {
  "kernelspec": {
   "display_name": "Python 3",
   "language": "python",
   "name": "python3"
  },
  "language_info": {
   "codemirror_mode": {
    "name": "ipython",
    "version": 3
   },
   "file_extension": ".py",
   "mimetype": "text/x-python",
   "name": "python",
   "nbconvert_exporter": "python",
   "pygments_lexer": "ipython3",
   "version": "3.7.3"
  }
 },
 "nbformat": 4,
 "nbformat_minor": 2
}
